{
  "cells": [
    {
      "cell_type": "markdown",
      "metadata": {
        "id": "rK3EGmF4ekqb"
      },
      "source": [
        "design and train at least 3 different deep autoencoders or GANs, and test\n",
        "each for two generative tasks\n",
        "\n",
        "1) Generate facial sketch from photos;\n",
        "2) Generate facial photos from sketch;"
      ]
    },
    {
      "cell_type": "code",
      "source": [
        "#!pip install image_similarity_measures"
      ],
      "metadata": {
        "id": "nWeNZXpPc3IQ"
      },
      "execution_count": null,
      "outputs": []
    },
    {
      "cell_type": "code",
      "execution_count": null,
      "metadata": {
        "id": "6HoKWZJUekqi"
      },
      "outputs": [],
      "source": [
        "from IPython import display\n",
        "\n",
        "import matplotlib.pyplot as plt\n",
        "import numpy as np\n",
        "import tensorflow as tf\n",
        "import sklearn as skl\n",
        "import skimage\n",
        "#import tensorflow_probability as tfp\n",
        "\n",
        "import keras\n",
        "from keras.layers import Dense, Conv2D, Conv2DTranspose, MaxPool2D, UpSampling2D, Dropout, Input, Lambda, BatchNormalization, LeakyReLU, Flatten\n",
        "from keras.preprocessing.image import img_to_array\n",
        "from keras.models import Model\n",
        "#from keras.objectives import binary_crossentropy\n",
        "from keras.callbacks import LearningRateScheduler\n",
        "import keras.backend as K\n",
        "# import image_similarity_measures\n",
        "# from image_similarity_measures.quality_metrics import rmse, psnr\n",
        "\n",
        "import glob\n",
        "import imageio\n",
        "import time\n",
        "from tqdm import tqdm \n",
        "import random\n",
        "\n",
        "import os\n",
        "import re\n",
        "import cv2"
      ]
    },
    {
      "cell_type": "markdown",
      "source": [
        "Folders of images are uploaded on google drive and accessed by colab through mounting and mentioning the full path "
      ],
      "metadata": {
        "id": "dTPmX-kafGJf"
      }
    },
    {
      "cell_type": "code",
      "execution_count": null,
      "metadata": {
        "colab": {
          "base_uri": "https://localhost:8080/"
        },
        "id": "JLsjlQJsz9W9",
        "outputId": "b3bf135e-036f-42fa-8319-38a434876dec"
      },
      "outputs": [
        {
          "output_type": "stream",
          "name": "stdout",
          "text": [
            "Drive already mounted at /content/drive; to attempt to forcibly remount, call drive.mount(\"/content/drive\", force_remount=True).\n"
          ]
        }
      ],
      "source": [
        "from google.colab import drive\n",
        "drive.mount('/content/drive')"
      ]
    },
    {
      "cell_type": "markdown",
      "metadata": {
        "id": "ugG0QySzp2XZ"
      },
      "source": [
        "### Load dataset"
      ]
    },
    {
      "cell_type": "code",
      "execution_count": null,
      "metadata": {
        "id": "BdtDObwmp2Xa"
      },
      "outputs": [],
      "source": [
        "def sorted_alphanumeric(data):  \n",
        "    convert = lambda text: int(text) if text.isdigit() else text.lower()\n",
        "    alphanum_key = lambda key: [convert(c) for c in re.split('([0-9]+)',key)]\n",
        "    return sorted(data,key = alphanum_key)"
      ]
    },
    {
      "cell_type": "code",
      "execution_count": null,
      "metadata": {
        "id": "C5pCSJ70p2Xa"
      },
      "outputs": [],
      "source": [
        "semi_path = 'drive/MyDrive/Labs/Coursework/Comp Vision'\n",
        "\n",
        "image_path_train = semi_path + '/ImageDataset/Dataset/CUHK_training_cropped_photos' \n",
        "img_array_train = []\n",
        "\n",
        "sketch_path_train = semi_path + '/ImageDataset/Dataset/CUHK_training_cropped_sketches'\n",
        "sketch_array_train = []\n",
        "\n",
        "image_path_test = semi_path +'/ImageDataset/Dataset/CUHK_testing_cropped_photos' \n",
        "img_array_test = []\n",
        "\n",
        "sketch_path_test = semi_path +'/ImageDataset/Dataset/CUHK_testing_cropped_sketches'\n",
        "sketch_array_test = []"
      ]
    },
    {
      "cell_type": "code",
      "execution_count": null,
      "metadata": {
        "id": "VzWqh3O5p2Xb"
      },
      "outputs": [],
      "source": [
        "image_file_train = sorted_alphanumeric(os.listdir(image_path_train))\n",
        "sketch_file_train = sorted_alphanumeric(os.listdir(sketch_path_train))\n",
        "image_file_test = sorted_alphanumeric(os.listdir(image_path_test))\n",
        "sketch_file_test = sorted_alphanumeric(os.listdir(sketch_path_test))"
      ]
    },
    {
      "cell_type": "code",
      "execution_count": null,
      "metadata": {
        "id": "ED8v-Vmnp2Xc"
      },
      "outputs": [],
      "source": [
        "image_files = image_file_train + image_file_test\n",
        "sketch_files = sketch_file_train + sketch_file_test"
      ]
    },
    {
      "cell_type": "markdown",
      "metadata": {
        "id": "x3e625J1p2Xc"
      },
      "source": [
        "## Loading and augmenting images"
      ]
    },
    {
      "cell_type": "code",
      "execution_count": null,
      "metadata": {
        "id": "e4KO420w0PIo"
      },
      "outputs": [],
      "source": [
        "img_array=[]\n",
        "sketch_array=[]\n",
        "SIZE = 256"
      ]
    },
    {
      "cell_type": "code",
      "execution_count": null,
      "metadata": {
        "colab": {
          "base_uri": "https://localhost:8080/"
        },
        "id": "CxI_Fie3p2Xe",
        "outputId": "28bda5b7-0bde-459d-dbbf-a3723e1d6264"
      },
      "outputs": [
        {
          "output_type": "stream",
          "name": "stderr",
          "text": [
            "100%|██████████| 88/88 [00:00<00:00, 162.81it/s]\n",
            "100%|██████████| 88/88 [00:00<00:00, 187.66it/s]\n",
            "100%|██████████| 100/100 [00:00<00:00, 179.44it/s]\n",
            "100%|██████████| 100/100 [00:00<00:00, 176.99it/s]\n"
          ]
        }
      ],
      "source": [
        "for i in tqdm(image_file_train):\n",
        "    image = cv2.imread(image_path_train + '/' + i,1)\n",
        "    img_array.append(img_to_array(image))  \n",
        "    \n",
        "for i in tqdm(sketch_file_train):\n",
        "    image = cv2.imread(sketch_path_train + '/' + i,1)\n",
        "    sketch_array.append(img_to_array(image))\n",
        "\n",
        "for i in tqdm(image_file_test):\n",
        "    image = cv2.imread(image_path_test + '/' + i,1)   \n",
        "    img_array.append(img_to_array(image))  \n",
        "    \n",
        "for i in tqdm(sketch_file_test):\n",
        "    image = cv2.imread(sketch_path_test + '/' + i,1)\n",
        "    sketch_array.append(img_to_array(image))"
      ]
    },
    {
      "cell_type": "code",
      "source": [
        "# #change to grayscale\n",
        "# tf.compat.v1.image.rgb_to_grayscale\n",
        "# tf.image.rgb_to_grayscale(\n",
        "#     images, name=None\n",
        "# )"
      ],
      "metadata": {
        "id": "qGZ0qy61cgq7"
      },
      "execution_count": null,
      "outputs": []
    },
    {
      "cell_type": "code",
      "source": [
        "    # image = cv2.cvtColor(image, cv2.COLOR_BGR2RGB)\n",
        "    # image = cv2.resize(image, (SIZE, SIZE))\n",
        "    # image = image.astype('float32') / 255.0\n",
        "    #     image = cv2.cvtColor(image, cv2.COLOR_BGR2RGB)\n",
        "    # image = cv2.resize(image, (SIZE, SIZE))\n",
        "    # image = image.astype('float32') / 255.0\n",
        "\n",
        "    #     image = cv2.cvtColor(image, cv2.COLOR_BGR2RGB)\n",
        "    # image = cv2.resize(image, (SIZE, SIZE))\n",
        "    # image = image.astype('float32') / 255.0\n",
        "    #     image = cv2.cvtColor(image, cv2.COLOR_BGR2RGB)\n",
        "    # image = cv2.resize(image, (SIZE, SIZE))\n",
        "    # image = image.astype('float32') / 255.0"
      ],
      "metadata": {
        "id": "kt1HClJabVxg"
      },
      "execution_count": null,
      "outputs": []
    },
    {
      "cell_type": "code",
      "execution_count": null,
      "metadata": {
        "id": "eGNHYANkx5f3"
      },
      "outputs": [],
      "source": [
        "# defining function to plot images pair\n",
        "def plot_images(image, sketches):\n",
        "    plt.figure(figsize=(7,7))\n",
        "    plt.subplot(1,2,1)\n",
        "    plt.title('Image', color = 'green', fontsize = 20)\n",
        "    plt.imshow(image)\n",
        "    plt.subplot(1,2,2)\n",
        "    plt.title('Sketches ', color = 'black', fontsize = 20)\n",
        "    plt.imshow(sketches)\n",
        "    plt.show()"
      ]
    },
    {
      "cell_type": "code",
      "execution_count": null,
      "metadata": {
        "id": "IFjuUmGFc1Ew",
        "colab": {
          "base_uri": "https://localhost:8080/"
        },
        "outputId": "6abe3032-52c8-4791-8199-49d73f9e3ead"
      },
      "outputs": [
        {
          "output_type": "stream",
          "name": "stderr",
          "text": [
            "100%|██████████| 188/188 [00:00<00:00, 225.43it/s]\n"
          ]
        }
      ],
      "source": [
        "# image = cv2.imread(sketch_path_test + '/' + image_file_test[0],1)\n",
        "# image = cv2.cvtColor(image, cv2.COLOR_BGR2RGB)\n",
        "# image2 = cv2.resize(image, (SIZE, SIZE))\n",
        "# COLOR_BGR2Lab \n",
        "img_array_RGB= []\n",
        "img_array_LAB= []\n",
        "for i in tqdm(img_array):\n",
        "    image = i\n",
        "    image = cv2.resize(image, (SIZE, SIZE))\n",
        "    image = cv2.cvtColor(image, cv2.COLOR_BGR2RGB) \n",
        "    imagereshaped = image.astype('float32') / 255.0\n",
        "    img_array_RGB.append(img_to_array(imagereshaped))  \n",
        "\n",
        "    image2 = i\n",
        "    image2 = cv2.resize(image2, (SIZE, SIZE))\n",
        "    image2 = cv2.cvtColor(image2, cv2.COLOR_BGR2LAB)\n",
        "    imagereshaped2 = image2.astype('float32') / 255.0\n",
        "    img_array_LAB.append(img_to_array(imagereshaped2))  \n",
        "# plt.imshow( img_to_array(image2))"
      ]
    },
    {
      "cell_type": "code",
      "source": [
        "\n",
        "sketch_array_changed= []\n",
        "for image in tqdm(sketch_array):\n",
        "    image = cv2.resize(image, (SIZE, SIZE))\n",
        "    image = cv2.cvtColor(image, cv2.COLOR_BGR2RGB) \n",
        "    imagereshaped = image.astype('float32') / 255.0\n",
        "    sketch_array_changed.append(img_to_array(imagereshaped))  \n",
        "    \n",
        "# plt.imshow( img_to_array(image2))"
      ],
      "metadata": {
        "colab": {
          "base_uri": "https://localhost:8080/"
        },
        "id": "l17tSbhXUgDI",
        "outputId": "229c25f7-56dd-4ed9-8ff0-cf369df6246c"
      },
      "execution_count": null,
      "outputs": [
        {
          "output_type": "stream",
          "name": "stderr",
          "text": [
            "100%|██████████| 188/188 [00:00<00:00, 710.15it/s]\n"
          ]
        }
      ]
    },
    {
      "cell_type": "code",
      "source": [
        "img_array = img_array_RGB \n",
        "sketch_array = sketch_array_changed"
      ],
      "metadata": {
        "id": "BLpJ7q5OS9Xe"
      },
      "execution_count": null,
      "outputs": []
    },
    {
      "cell_type": "code",
      "execution_count": null,
      "metadata": {
        "colab": {
          "base_uri": "https://localhost:8080/"
        },
        "id": "hWYQ8hfY1LIw",
        "outputId": "a8db3813-b80d-4228-e1d1-7ec9407a8401"
      },
      "outputs": [
        {
          "output_type": "stream",
          "name": "stdout",
          "text": [
            "Total number of sketch images: 188\n",
            "Total number of images: 188\n"
          ]
        }
      ],
      "source": [
        "print(\"Total number of sketch images:\",len(sketch_array))\n",
        "print(\"Total number of images:\",len(img_array))"
      ]
    },
    {
      "cell_type": "markdown",
      "metadata": {
        "id": "0tp9EQKmx5f0"
      },
      "source": [
        "# Visualizing images\n",
        "Here i have plotted all augmented images and its augmented sketches"
      ]
    },
    {
      "cell_type": "code",
      "execution_count": null,
      "metadata": {
        "id": "ZnfBBWbHx5f5"
      },
      "outputs": [],
      "source": [
        "ls = [i for i in range(0,20,5)]\n",
        "for i in ls:\n",
        "    plot_images(img_array[i],sketch_array[i])\n"
      ]
    },
    {
      "cell_type": "markdown",
      "metadata": {
        "id": "u-GmTWdtx5f7"
      },
      "source": [
        "\n",
        "## Slicing and reshaping\n",
        "\n",
        "Out of 188 images train images consist 80% images while test images contains 20% images\n"
      ]
    },
    {
      "cell_type": "code",
      "execution_count": null,
      "metadata": {
        "id": "SwifTvRK6CoK"
      },
      "outputs": [],
      "source": [
        "import sklearn.model_selection as sklms"
      ]
    },
    {
      "cell_type": "code",
      "execution_count": null,
      "metadata": {
        "id": "R69Ev61Wx5f8"
      },
      "outputs": [],
      "source": [
        "train_images, test_images, train_sketch_images, test_sketch_images =sklms.train_test_split(img_array, sketch_array, train_size= 0.8, shuffle= True)"
      ]
    },
    {
      "cell_type": "code",
      "execution_count": null,
      "metadata": {
        "colab": {
          "base_uri": "https://localhost:8080/"
        },
        "id": "Vr0qebyJ4fCR",
        "outputId": "9c40e3e3-4df1-42f1-d67e-8606e9c894b1"
      },
      "outputs": [
        {
          "output_type": "stream",
          "name": "stdout",
          "text": [
            "Train color image shape: (150, 256, 256, 3)\n",
            "Test sketch image shape (38, 256, 256, 3)\n",
            "Test color image shape (38, 256, 256, 3)\n"
          ]
        }
      ],
      "source": [
        "# reshaping\n",
        "train_sketch_images = np.reshape(train_sketch_images,(len(train_sketch_images),SIZE,SIZE,3))\n",
        "train_images = np.reshape(train_images, (len(train_images),SIZE,SIZE,3))\n",
        "print('Train color image shape:',train_images.shape)\n",
        "\n",
        "test_sketch_images = np.reshape(test_sketch_images,(len(test_sketch_images),SIZE,SIZE,3))\n",
        "print('Test sketch image shape',test_sketch_images.shape)\n",
        "\n",
        "test_images = np.reshape(test_images, (len(test_images),SIZE,SIZE,3))\n",
        "print('Test color image shape',test_images.shape)"
      ]
    },
    {
      "cell_type": "markdown",
      "metadata": {
        "id": "DDPGRtS2q1Xy"
      },
      "source": [
        "# Defining common methods and variables"
      ]
    },
    {
      "cell_type": "code",
      "execution_count": null,
      "metadata": {
        "id": "L0SNfo60q69N"
      },
      "outputs": [],
      "source": [
        "encoder_input = keras.Input(shape = (SIZE, SIZE, 3))"
      ]
    },
    {
      "cell_type": "code",
      "execution_count": null,
      "metadata": {
        "id": "rW6fHj2cs54C"
      },
      "outputs": [],
      "source": [
        "listOfOptimizers = [ 'RMSProp', 'SGD', 'Adam']\n",
        "listOfLossFunctions = ['mean_absolute_error', 'mean_squared_error', 'binary_crossentropy']\n",
        "listOfMetrics = ['acc', 'mae', 'mse', 'binary_crossentropy']\n",
        "learning_rate = 0.001\n",
        "number_of_epochs = 100"
      ]
    },
    {
      "cell_type": "code",
      "execution_count": null,
      "metadata": {
        "id": "NOXIbiWO-bEc"
      },
      "outputs": [],
      "source": [
        "def show_image_to_sketch(real,sketch, predicted, title):\n",
        "    fig = plt.figure(figsize = (9,7))\n",
        "    plt.subplot(1,3,1)\n",
        "    plt.title(\"Image\",fontsize = 10, color = 'Lime')\n",
        "    plt.imshow(real)\n",
        "    plt.subplot(1,3,2)\n",
        "    plt.title(\"sketch\",fontsize = 10, color = 'Blue')\n",
        "    plt.imshow(sketch)\n",
        "    plt.subplot(1,3,3)\n",
        "    plt.title(\"Predicted\",fontsize = 10, color = 'gold')\n",
        "    plt.imshow(predicted)\n",
        "    plt.figtext(0.25,0.7, title, wrap=False)\n",
        "    #plt.tight_layout()\n",
        "    plt.show()"
      ]
    },
    {
      "cell_type": "code",
      "execution_count": null,
      "metadata": {
        "id": "f8Lgcc95-WqD"
      },
      "outputs": [],
      "source": [
        "def show_sketch_to_image(real,sketch, predicted, title):\n",
        "    plt.figure(figsize = (9,7))\n",
        "    plt.subplot(1,3,1)\n",
        "    plt.title(\"Sketch\",fontsize = 12, color = 'Lime')\n",
        "    plt.imshow(real)\n",
        "    plt.subplot(1,3,2)\n",
        "    plt.title(\"Image\",fontsize = 12, color = 'Blue')\n",
        "    plt.imshow(sketch)\n",
        "    plt.subplot(1,3,3)\n",
        "    plt.title(\"Predicted\",fontsize = 12, color = 'gold')\n",
        "    plt.imshow(predicted)\n",
        "    plt.figtext(0.25,0.7, title, wrap=False)\n",
        "    plt.show()"
      ]
    },
    {
      "cell_type": "code",
      "source": [
        "show_sketch_to_image(sketch_array[i],sketch_array_changed[i],sketch_array_changed[i], \"\")"
      ],
      "metadata": {
        "colab": {
          "base_uri": "https://localhost:8080/",
          "height": 212
        },
        "id": "TG0FRImJsou-",
        "outputId": "fc17c522-be07-4203-b057-6f44ca73e52f"
      },
      "execution_count": null,
      "outputs": [
        {
          "output_type": "display_data",
          "data": {
            "image/png": "[encoded data removed]",
            "text/plain": [
              "<Figure size 648x504 with 3 Axes>"
            ]
          },
          "metadata": {
            "needs_background": "light"
          }
        }
      ]
    },
    {
      "cell_type": "code",
      "source": [
        "def get_similarity_measures(image1, image2):\n",
        "  mae = tf.keras.metrics.mean_absolute_error(image1, image2)\n",
        "  print(f'MAE: {mae}')\n",
        "  ssim_val =  np.mean(tf.image.ssim(image1, image2, max_val = 1))\n",
        "  print(f'SSIM: {ssim_val}')\n",
        "  psnr_val = tf.image.psnr(image1, image2, max_val = 1)\n",
        "  print(f'PSNR: {psnr_val}')\n",
        "  ssim_val_multi =  np.mean(tf.image.ssim_multiscale(image1, image2, max_val = 1))\n",
        "  print(f'Multiscale SSIM: {ssim_val_multi}')\n"
      ],
      "metadata": {
        "id": "vCdWP65Quqlg"
      },
      "execution_count": 1,
      "outputs": []
    },
    {
      "cell_type": "markdown",
      "metadata": {
        "id": "4xpQpasPiBMB"
      },
      "source": [
        "From - https://github.com/PacktPublishing/Advanced-Deep-Learning-with-Keras/blob/master/chapter3-autoencoders/colorization-autoencoder-cifar10-3.4.1.py"
      ]
    },
    {
      "cell_type": "markdown",
      "metadata": {
        "id": "bQKQ-bMXx5f-"
      },
      "source": [
        "## Downsample layer"
      ]
    },
    {
      "cell_type": "code",
      "execution_count": null,
      "metadata": {
        "id": "6IriiJu4wdi8"
      },
      "outputs": [],
      "source": [
        "def deep_dense(units, activation='relu'):\n",
        "    # downsample = tf.keras.models.Sequential()\n",
        "    # downsample.add(Dense(units = units, use_bias = False, kernel_initializer = 'random_normal'))\n",
        "    return Dense(units = units, activation=activation, use_bias = False, kernel_initializer = 'random_normal')"
      ]
    },
    {
      "cell_type": "code",
      "execution_count": null,
      "metadata": {
        "id": "Ps0wfrxQx5f_"
      },
      "outputs": [],
      "source": [
        "def downsample(filters, size, apply_batch_normalization = True):\n",
        "    downsample = tf.keras.models.Sequential()\n",
        "    downsample.add(Conv2D(filters = filters, kernel_size = size, strides = 2, use_bias = False, kernel_initializer = 'he_normal'))\n",
        "    if apply_batch_normalization:\n",
        "      downsample.add(BatchNormalization())\n",
        "    downsample.add(LeakyReLU())\n",
        "    return downsample"
      ]
    },
    {
      "cell_type": "markdown",
      "metadata": {
        "id": "yoMg58KRx5gB"
      },
      "source": [
        "## Upsample Layer"
      ]
    },
    {
      "cell_type": "code",
      "execution_count": null,
      "metadata": {
        "id": "0kTKgtOCwheA"
      },
      "outputs": [],
      "source": [
        "def upsample_dense(units, activation='relu'):\n",
        "    # upsample = tf.keras.models.Sequential()\n",
        "    # upsample.add(keras.layers.Dense(units = units, use_bias = False, kernel_initializer = 'random_normal'))\n",
        "    return Dense(units = units, activation=activation, kernel_initializer = 'random_normal')"
      ]
    },
    {
      "cell_type": "code",
      "execution_count": null,
      "metadata": {
        "id": "XKVZ2302x5gC"
      },
      "outputs": [],
      "source": [
        "def upsample(filters, size, apply_dropout = False):\n",
        "    upsample = tf.keras.models.Sequential()\n",
        "    upsample.add(keras.layers.Conv2DTranspose(filters = filters, kernel_size = size, strides = 2, use_bias = False, kernel_initializer = 'he_normal'))\n",
        "    if apply_dropout:\n",
        "        upsample.add(Dropout(0.1))\n",
        "    upsample.add(LeakyReLU()) \n",
        "    return upsample"
      ]
    },
    {
      "cell_type": "markdown",
      "metadata": {
        "id": "wQLJJ3Xqx5gD"
      },
      "source": [
        "# Building Models "
      ]
    },
    {
      "cell_type": "markdown",
      "metadata": {
        "id": "EpfEfegDJbE8"
      },
      "source": [
        "## 1\\. Deep AE\n",
        "\n",
        "sequence of \n",
        " * downsample layer for encoder \n",
        "\n",
        " * upsample layer for decoder"
      ]
    },
    {
      "cell_type": "code",
      "execution_count": null,
      "metadata": {
        "id": "pSHnbVnnb11F"
      },
      "outputs": [],
      "source": [
        "flat_size = SIZE * SIZE\n",
        "i=0"
      ]
    },
    {
      "cell_type": "code",
      "execution_count": null,
      "metadata": {
        "id": "GZAGIHQix5gE"
      },
      "outputs": [],
      "source": [
        "from tensorflow.python.ops.gen_array_ops import Reshape\n",
        "#@title\n",
        "def model():\n",
        "    #x = deep_dense(SIZE)()\n",
        "    model_input = Flatten()(encoder_input)\n",
        "    x = deep_dense(SIZE )(model_input)\n",
        "    x = deep_dense(SIZE/2)(x)\n",
        "    x = deep_dense(SIZE/4)(x)\n",
        "    encoder_output = deep_dense(SIZE/8)(x)\n",
        "   \n",
        "    #encoder_output = deep_dense(512,4)(x)\n",
        "    \n",
        "    decoder_input = deep_dense(SIZE/4)(encoder_output)\n",
        "    x = deep_dense(SIZE/2)(decoder_input)\n",
        "    x = deep_dense(SIZE)(x)\n",
        "    x = deep_dense(SIZE * SIZE * 3,  activation='sigmoid')(x)\n",
        "    decoder_output = keras.layers.Reshape(target_shape=(256,256,3))(x)\n",
        "\n",
        "    #x = tf.keras.layers.Conv2DTranspose(8,(2,2),padding = 'same')(x)\n",
        "    #decoder_output = tf.keras.layers.Conv2DTranspose(3,(2,2), padding = 'same')(x)\n",
        "\n",
        "    return tf.keras.Model(encoder_input, decoder_output)"
      ]
    },
    {
      "cell_type": "code",
      "execution_count": null,
      "metadata": {
        "id": "siIa7b-ex5gG"
      },
      "outputs": [],
      "source": [
        "# to get summary of model\n",
        "\n",
        "ae_model2 = model()\n",
        "#ae_model.summary()\n",
        "ae_fit_history_s2f = []\n",
        "ae_fit_history_f2s = []\n",
        "listOfOptimizers = [ 'Adam']"
      ]
    },
    {
      "cell_type": "markdown",
      "metadata": {
        "id": "e3RhQvTjphWh"
      },
      "source": [
        "### Face2Sketch"
      ]
    },
    {
      "cell_type": "code",
      "execution_count": null,
      "metadata": {
        "id": "qLNfVYNw6MUQ"
      },
      "outputs": [],
      "source": [
        "#@title\n",
        "for opt in listOfOptimizers:\n",
        "  for loss in listOfLossFunctions:\n",
        "    title = f\"Model with Loss function {loss}  and Optimizer {opt}\"\n",
        "    print(title)\n",
        "    # Training\n",
        "    if opt == \"SGD\":\n",
        "      optimizer = tf.keras.optimizers.SGD(learning_rate=learning_rate)\n",
        "    elif opt == \"RMSProp\":\n",
        "      optimizer = tf.keras.optimizers.RMSprop(learning_rate=learning_rate)\n",
        "    else:\n",
        "      optimizer = tf.keras.optimizers.Adam(learning_rate=learning_rate)\n",
        "\n",
        "    ae_model1 = model()\n",
        "    ae_model1.compile(optimizer = optimizer, loss = loss, metrics = listOfMetrics)\n",
        "    ae_fit = ae_model1.fit(train_images, train_sketch_images, epochs = number_of_epochs, verbose = 1)\n",
        "    ae_fit_history_f2s.append(ae_fit)\n",
        "\n",
        "    #Evalution on test data\n",
        "    prediction_on_test_data = ae_model1.evaluate(test_images, test_sketch_images)\n",
        "    print (prediction_on_test_data)\n",
        "    print(\"Loss: \", prediction_on_test_data[0])\n",
        "    print(\"Accuracy: \", np.round(prediction_on_test_data[1] * 100,1))\n",
        "    \n",
        "    #Showing images\n",
        "    #ls = random.sample(range(1, len(test_images)), 3)\n",
        "    #print(f\"length {len(test_images)}, samples = {ls}\")\n",
        "    #for i in ls:\n",
        "      # Prediction\n",
        "    predicted_image = ae_model1.predict(test_images[i].reshape(1,SIZE,SIZE,3))\n",
        "    predicted =np.clip(predicted_image,0.0,1.0).reshape(SIZE,SIZE,3)\n",
        "  #if (i== 0):\n",
        "    print(\"Images for \", title)\n",
        "    show_image_to_sketch(test_images[i],test_sketch_images[i],predicted, title)"
      ]
    },
    {
      "cell_type": "code",
      "source": [
        "#SELECTED - Model with Loss function mean_absolute_error  and Optimizer Adam\n",
        "ae_fit_history_f2s = []\n",
        "ae_model1 = model()\n",
        "\n",
        "ae_model1.compile(optimizer = 'adam', loss = 'mae', metrics = listOfMetrics)\n",
        "ae_fit = ae_model1.fit(train_images, train_sketch_images, epochs = number_of_epochs, verbose = 1)\n",
        "ae_fit_history_f2s.append(ae_fit)\n",
        "\n",
        "#Evalution on test data\n",
        "prediction_on_test_data = ae_model1.evaluate(test_images, test_sketch_images)\n",
        "print (prediction_on_test_data)\n",
        "print(\"Loss: \", prediction_on_test_data[0])\n",
        "print(\"Accuracy: \", np.round(prediction_on_test_data[1] * 100,1))\n",
        "\n",
        "#Showing images\n",
        "predicted_image = ae_model1.predict(test_images[i].reshape(1,SIZE,SIZE,3))\n",
        "predicted =np.clip(predicted_image,0.0,1.0).reshape(SIZE,SIZE,3)\n",
        "i=0\n",
        "print(\"Images for \", title)\n",
        "show_image_to_sketch(test_images[i],test_sketch_images[i],predicted, title)"
      ],
      "metadata": {
        "id": "3dO-NCI8TPdq"
      },
      "execution_count": null,
      "outputs": []
    },
    {
      "cell_type": "markdown",
      "metadata": {
        "id": "vPQtIRh1pldr"
      },
      "source": [
        "### Sketch2face"
      ]
    },
    {
      "cell_type": "code",
      "source": [
        "ae_model2 = model();\n",
        "ae_fit_history_s2f=[]\n",
        "#SELECTED - Model with Loss function mean_absolute_error  and Optimizer Adam\n",
        "\n",
        "ae_model2.compile(optimizer = 'adam', loss = 'mae', metrics = listOfMetrics)\n",
        "ae_fit = ae_model2.fit(train_sketch_images, train_images, epochs = number_of_epochs, verbose = 0)\n",
        "ae_fit_history_s2f.append(ae_fit)\n",
        "\n",
        "#Evalution on test data\n",
        "prediction_on_test_data = ae_model2.evaluate(test_sketch_images, test_images)\n",
        "print (prediction_on_test_data)\n",
        "print(\"Loss: \", prediction_on_test_data[0])\n",
        "print(\"Accuracy: \", np.round(prediction_on_test_data[1] * 100,1))\n",
        "\n",
        "predicted_image = ae_model2.predict(test_sketch_images[i].reshape(1,SIZE,SIZE,3))\n",
        "predicted =np.clip(predicted_image,0.0,1.0).reshape(SIZE,SIZE,3)\n",
        "\n",
        "i=0\n",
        "title = f\"Model with Loss function {loss}  and Optimizer {opt}\"\n",
        "print(\"Images for \", title)\n",
        "show_sketch_to_image(test_sketch_images[i],test_images[i],predicted, title)"
      ],
      "metadata": {
        "id": "P4xAot0kTf-6"
      },
      "execution_count": null,
      "outputs": []
    },
    {
      "cell_type": "code",
      "execution_count": null,
      "metadata": {
        "id": "JO9OlY1xmKbE",
        "cellView": "form"
      },
      "outputs": [],
      "source": [
        "#@title\n",
        "for opt in listOfOptimizers:\n",
        "  for loss in listOfLossFunctions:\n",
        "    title = f\"Model with Loss function {loss}  and Optimizer {opt}\"\n",
        "    print(title)\n",
        "    # Training\n",
        "    if opt == \"SGD\":\n",
        "      optimizer = tf.keras.optimizers.SGD(learning_rate=learning_rate)\n",
        "    elif opt == \"RMSProp\":\n",
        "      optimizer = tf.keras.optimizers.RMSprop(learning_rate=learning_rate)\n",
        "    else:\n",
        "      optimizer = tf.keras.optimizers.Adam(learning_rate=learning_rate)\n",
        "\n",
        "    ae_model2 = model();\n",
        "    ae_model2.compile(optimizer = optimizer, loss = loss, metrics = listOfMetrics)\n",
        "    ae_fit = ae_model2.fit(train_sketch_images, train_images, epochs = number_of_epochs, verbose = 0)\n",
        "    ae_fit_history_s2f.append(ae_fit)\n",
        "\n",
        "    #Evalution on test data\n",
        "    prediction_on_test_data = ae_model2.evaluate(test_sketch_images, test_images)\n",
        "    print (prediction_on_test_data)\n",
        "    print(\"Loss: \", prediction_on_test_data[0])\n",
        "    print(\"Accuracy: \", np.round(prediction_on_test_data[1] * 100,1))\n",
        "    \n",
        "    #Showing images\n",
        "    # ls = random.sample(range(1, len(test_sketch_images)), 10)\n",
        "    # print(f\"length {len(test_images)}, samples = {ls}\")\n",
        "    # for i in ls:\n",
        "    #   # Prediction\n",
        "    predicted_image = ae_model2.predict(test_sketch_images[i].reshape(1,SIZE,SIZE,3))\n",
        "    predicted =np.clip(predicted_image,0.0,1.0).reshape(SIZE,SIZE,3)\n",
        "    #if (i == 0):\n",
        "    print(\"Images for \", title)\n",
        "    show_sketch_to_image(test_sketch_images[i],test_images[i],predicted, title)\n"
      ]
    },
    {
      "cell_type": "markdown",
      "source": [
        "### similarity scores"
      ],
      "metadata": {
        "id": "kf9fArzuZruD"
      }
    },
    {
      "cell_type": "code",
      "source": [
        "get_similarity_measures(test_images[i],predicted)"
      ],
      "metadata": {
        "id": "QU-q_1XXeS6S"
      },
      "execution_count": null,
      "outputs": []
    },
    {
      "cell_type": "code",
      "source": [
        "plt.plot(ae_fit_history_f2s[0].history[\"loss\"], 'g--', label=\"face2sketch\")\n",
        "plt.plot(ae_fit_history_s2f[0].history[\"loss\"], 'r--',label = \"sketch2face\")\n",
        "plt.xlabel('Epochs');\n",
        "plt.ylabel('Training Error');"
      ],
      "metadata": {
        "id": "7CNJSKx7ZuBn"
      },
      "execution_count": null,
      "outputs": []
    },
    {
      "cell_type": "markdown",
      "metadata": {
        "id": "nEfl8YFVJ8Hm"
      },
      "source": [
        "## 2\\. Convolutional AE"
      ]
    },
    {
      "cell_type": "code",
      "source": [
        "listOfOptimizers = [  'Adam']\n",
        "listOfLossFunctions = [ 'mean_squared_error', 'binary_crossentropy']\n",
        "listOfMetrics = ['acc','mse']"
      ],
      "metadata": {
        "id": "EbBEZdfi4Nt9"
      },
      "execution_count": null,
      "outputs": []
    },
    {
      "cell_type": "code",
      "execution_count": null,
      "metadata": {
        "id": "lDmmtMAboFt0"
      },
      "outputs": [],
      "source": [
        "def conv_ae_model_build():\n",
        "  x = Conv2D(filters = 16, kernel_size = (3,3), activation = 'relu', padding = 'same')(encoder_input)\n",
        "  x = MaxPool2D(pool_size = (2,2))(x)\n",
        "\n",
        "  #x = Conv2D(filters = 32,kernel_size = (3,3),strides = (2,2), activation = 'relu', padding = 'valid')(x)\n",
        "  x = Conv2D(filters = 64, kernel_size = (3,3), strides = (2,2), activation = 'relu', padding = 'same')(x)\n",
        "  x = MaxPool2D(pool_size = (2,2))(x)\n",
        "\n",
        "  x = Conv2D(filters = 128, kernel_size = (3,3), activation = 'relu', padding = 'same')(x)\n",
        "  x = Conv2D(filters = 256 , kernel_size = (3,3), activation = 'relu', padding = 'same')(x) \n",
        "  encoder_output = Conv2D(filters = 512 , kernel_size = (3,3), activation = 'relu', padding = 'same')(x) \n",
        "  \n",
        "  encoder = tf.keras.Model(encoder_input, encoder_output)\n",
        "\n",
        "  decoder_input = Conv2D(filters = 512 ,kernel_size = (3,3), activation = 'relu', padding = 'same')(encoder_output)\n",
        "  x = UpSampling2D(size = (2,2))(decoder_input)\n",
        "  x = Conv2D(filters = 256, kernel_size = (3,3), activation = 'relu', padding = 'same')(x)\n",
        "  x = Conv2D(filters = 128, kernel_size = (3,3), activation = 'relu', padding = 'same')(x)\n",
        "  x = UpSampling2D(size = (2,2) )(x)\n",
        "\n",
        "  x = Conv2D(filters = 64, kernel_size = (3,3), activation = 'relu', padding = 'same')(x)\n",
        "  x = UpSampling2D(size = (2,2) )(x)\n",
        "  x = Conv2D(filters = 32 , kernel_size = (3,3), activation = 'relu', padding = 'same')(x)\n",
        "  #x = UpSampling2D(size = (2,2) )(x)\n",
        "\n",
        "  #x = Conv2D(filters = 16  , kernel_size = (3,3), activation = 'relu', padding = 'same')(x)\n",
        "  conv_decoder_output = Conv2D(filters = 3, kernel_size = (3,3), activation = 'relu', padding = 'same')(x)\n",
        "\n",
        "  return Model(encoder_input, conv_decoder_output, name=\"ConvolutionalAEModel\")\n",
        "\n"
      ]
    },
    {
      "cell_type": "code",
      "execution_count": null,
      "metadata": {
        "id": "oQ8mfs3IpsFU"
      },
      "outputs": [],
      "source": [
        "# final conv model\n",
        "conv_ae_model = conv_ae_model_build()\n",
        "#conv_ae_model.summary()"
      ]
    },
    {
      "cell_type": "markdown",
      "source": [
        "### face2sketch"
      ],
      "metadata": {
        "id": "XbllwWzG5NQa"
      }
    },
    {
      "cell_type": "code",
      "source": [
        "conv_ae_model.compile(optimizer = \"adam\", loss = \"mae\", metrics = listOfMetrics)\n",
        "conv_fit = conv_ae_model.fit(train_images, train_sketch_images, epochs = number_of_epochs, verbose = 1)\n",
        "conv_fit_history_f2s.append(conv_fit)\n",
        "\n",
        "#Evalution on test data\n",
        "prediction_on_test_data = conv_ae_model.evaluate(test_images, test_sketch_images)\n",
        "print (prediction_on_test_data)\n",
        "print(\"Loss: \", prediction_on_test_data[0])\n",
        "print(\"Accuracy: \", np.round(prediction_on_test_data[1] * 100,1))"
      ],
      "metadata": {
        "id": "Kw0BAw5F404o"
      },
      "execution_count": null,
      "outputs": []
    },
    {
      "cell_type": "code",
      "source": [
        "i=0\n",
        "predicted_image = conv_ae_model.predict(test_images[i].reshape(1,SIZE,SIZE,3))\n",
        "predicted =np.clip(predicted_image,0.0,1.0).reshape(SIZE,SIZE,3)\n",
        "print(\"Images for \", title)\n",
        "show_image_to_sketch(test_images[i],test_sketch_images[i],predicted, title)"
      ],
      "metadata": {
        "id": "fue7uYC25Fd4"
      },
      "execution_count": null,
      "outputs": []
    },
    {
      "cell_type": "code",
      "source": [
        "get_similarity_measures(test_sketch_images[i],predicted)"
      ],
      "metadata": {
        "colab": {
          "base_uri": "https://localhost:8080/"
        },
        "id": "1T5m9MykeSif",
        "outputId": "9f995e77-d372-438d-d346-f672fb45ce32"
      },
      "execution_count": null,
      "outputs": [
        {
          "output_type": "stream",
          "name": "stdout",
          "text": [
            "SSIM: 0.5648611187934875\n",
            "PSNR: 11.825250625610352\n",
            "SSIM: 0.6198849678039551\n"
          ]
        }
      ]
    },
    {
      "cell_type": "markdown",
      "source": [
        "### sketch2face"
      ],
      "metadata": {
        "id": "kqZsuISOoxDL"
      }
    },
    {
      "cell_type": "code",
      "source": [
        "conv_ae_model2 = conv_ae_model_build()"
      ],
      "metadata": {
        "id": "29khh165oy1W"
      },
      "execution_count": null,
      "outputs": []
    },
    {
      "cell_type": "code",
      "source": [
        "conv_fit_history_s2f=[]\n",
        "conv_ae_model2.compile(optimizer = \"adam\", loss = \"mae\", metrics = listOfMetrics)\n",
        "conv_fit = conv_ae_model2.fit(train_sketch_images, train_images, epochs = number_of_epochs, verbose = 1)\n",
        "conv_fit_history_s2f.append(conv_fit)\n",
        "\n",
        "#Evalution on test data\n",
        "prediction_on_test_data = conv_ae_model2.evaluate(test_sketch_images, train_images)\n",
        "print (prediction_on_test_data)\n",
        "print(\"Loss: \", prediction_on_test_data[0])\n",
        "print(\"Accuracy: \", np.round(prediction_on_test_data[1] * 100,1))"
      ],
      "metadata": {
        "id": "Hmiyo9xyo1u2"
      },
      "execution_count": null,
      "outputs": []
    },
    {
      "cell_type": "code",
      "source": [
        "show_image_to_sketch(test_sketch_images[i],test_images[i] , predicted, title)\n",
        "predicted_image = conv_ae_model2.predict(test_sketch_images[10].reshape(1,SIZE,SIZE,3))\n",
        "predicted =np.clip(predicted_image,0.0,1.0).reshape(SIZE,SIZE,3)\n",
        "show_image_to_sketch(test_sketch_images[10],test_images[10] , predicted, title)"
      ],
      "metadata": {
        "id": "CiG25BPHpG4X"
      },
      "execution_count": null,
      "outputs": []
    },
    {
      "cell_type": "code",
      "source": [
        "get_similarity_measures(test_images[i] , predicted)"
      ],
      "metadata": {
        "id": "pkQYLIOVp4Si"
      },
      "execution_count": null,
      "outputs": []
    },
    {
      "cell_type": "markdown",
      "source": [
        "### similarity measures"
      ],
      "metadata": {
        "id": "xengmP0PpEgS"
      }
    },
    {
      "cell_type": "code",
      "source": [
        "plt.plot(conv_fit_history_f2s[0].history[\"loss\"], 'g--', label=\"face2sketch\")\n",
        "plt.plot(conv_fit_history_s2f[0].history[\"loss\"], 'r-+',label = \"sketch2face\")\n",
        "plt.xlabel('Epochs');\n",
        "plt.ylabel('Training Error');"
      ],
      "metadata": {
        "id": "aUghXyYss-NG"
      },
      "execution_count": null,
      "outputs": []
    },
    {
      "cell_type": "code",
      "source": [
        ""
      ],
      "metadata": {
        "id": "EprOL1Y6_svJ"
      },
      "execution_count": null,
      "outputs": []
    },
    {
      "cell_type": "markdown",
      "metadata": {
        "id": "oIRl3bnHx9K0"
      },
      "source": [
        "## 2\\.1 Convolutional AE with relu and batch normalization"
      ]
    },
    {
      "cell_type": "code",
      "execution_count": null,
      "metadata": {
        "id": "vWI1WlCNyAkx"
      },
      "outputs": [],
      "source": [
        "#@title\n",
        "def conv_model():\n",
        "    x = downsample(SIZE/16, 4, False)(encoder_input)\n",
        "    x = downsample(SIZE/8,4)(x)\n",
        "    x = downsample(SIZE/4,4,False)(x)\n",
        "    x = downsample(SIZE/2,4)(x)\n",
        "    x = downsample(SIZE,4)(x)\n",
        "   \n",
        "    encoder_output = downsample(512,4)(x)\n",
        "    \n",
        "    decoder_input = upsample(512,4,True)(encoder_output)\n",
        "    x = upsample(SIZE,4,False)(decoder_input)\n",
        "    x = upsample(SIZE/2,4, True)(x)\n",
        "    x = upsample(SIZE/4,4)(x)\n",
        "    x = upsample(SIZE/8,4)(x)\n",
        "    x = upsample(SIZE/16,4)(x)\n",
        "    x = tf.keras.layers.Conv2DTranspose(8,(2,2),strides = (1,1), padding = 'valid')(x)\n",
        "    decoder_output = tf.keras.layers.Conv2DTranspose(3,(2,2),strides = (1,1), padding = 'valid')(x)\n",
        "\n",
        "    return tf.keras.Model(encoder_input, decoder_output)"
      ]
    },
    {
      "cell_type": "code",
      "execution_count": null,
      "metadata": {
        "id": "Zp8JHhyAQVKo"
      },
      "outputs": [],
      "source": [
        "# to get summary of model\n",
        "#conv_model1.summary()\n",
        "conv_fit_history_s2f = []\n",
        "conv_fit_history_f2s = []"
      ]
    },
    {
      "cell_type": "markdown",
      "metadata": {
        "id": "YDc4BxSnQVZW"
      },
      "source": [
        "### Face2Sketch"
      ]
    },
    {
      "cell_type": "code",
      "execution_count": null,
      "metadata": {
        "id": "cT8AIlijQVZY"
      },
      "outputs": [],
      "source": [
        "for opt in listOfOptimizers:\n",
        "  for loss in listOfLossFunctions:\n",
        "    title = f\"Model with Loss function {loss}  and Optimizer {opt}\"\n",
        "    print(title)\n",
        "    # Training\n",
        "    if opt == \"SGD\":\n",
        "      optimizer = tf.keras.optimizers.SGD(learning_rate=learning_rate)\n",
        "    elif opt == \"RMSProp\":\n",
        "      optimizer = tf.keras.optimizers.RMSprop(learning_rate=learning_rate)\n",
        "    else:\n",
        "      optimizer = tf.keras.optimizers.Adam(learning_rate=learning_rate)\n",
        "    \n",
        "    conv_model1 = conv_model()\n",
        "    conv_model1.compile(optimizer = optimizer, loss = loss, metrics = listOfMetrics)\n",
        "    conv_fit = conv_model1.fit(train_images, train_sketch_images, epochs = number_of_epochs, verbose = 0)\n",
        "    conv_fit_history_f2s.append(conv_fit)\n",
        "    \n",
        "    #Evalution on test data\n",
        "    prediction_on_test_data = conv_model1.evaluate(test_images, test_sketch_images)\n",
        "    print (prediction_on_test_data)\n",
        "    print(\"Loss: \", prediction_on_test_data[0])\n",
        "    print(\"Accuracy: \", np.round(prediction_on_test_data[1] * 100,1))\n",
        "    \n",
        "    #Showing images\n",
        "    ls = random.sample(range(1, len(test_images)), 3)\n",
        "    #print(f\"length {len(test_images)}, samples = {ls}\")\n",
        "    for i in ls:\n",
        "      # Prediction\n",
        "      predicted_image = conv_model1.predict(test_images[i].reshape(1,SIZE,SIZE,3))\n",
        "      predicted =np.clip(predicted_image,0.0,1.0).reshape(SIZE,SIZE,3)\n",
        "      print(\"Images for \", title)\n",
        "      show_image_to_sketch(test_images[i],test_sketch_images[i],predicted, title)"
      ]
    },
    {
      "cell_type": "code",
      "source": [
        "print(\"Similarity measures for Face2Sketch - Convolutional\")\n",
        "get_similarity_measures(test_sketch_images[i],predicted)"
      ],
      "metadata": {
        "id": "d574cyp22FCy"
      },
      "execution_count": null,
      "outputs": []
    },
    {
      "cell_type": "code",
      "source": [
        "title = f\"Model with Loss function {loss}  and Optimizer {opt}\"\n",
        "# Training\n",
        "optimizer = tf.keras.optimizers.Adam(learning_rate=learning_rate)\n",
        "\n",
        "conv_model1 = conv_model()\n",
        "conv_model1.compile(optimizer = optimizer, loss = 'mae')\n",
        "conv_fit = conv_model1.fit(train_images, train_sketch_images, epochs = number_of_epochs, verbose = 0)\n",
        "conv_fit_history_f2s.append(conv_fit)\n",
        "\n",
        "#Evalution on test data\n",
        "prediction_on_test_data = conv_model1.evaluate(test_images, test_sketch_images)\n",
        "print (prediction_on_test_data)\n",
        "print(\"Loss: \", prediction_on_test_data[0])\n",
        "print(\"Accuracy: \", np.round(prediction_on_test_data[1] * 100,1))\n",
        "\n",
        "#Showing images\n",
        "\n",
        "predicted_image = conv_model1.predict(test_images[i].reshape(1,SIZE,SIZE,3))\n",
        "predicted =np.clip(predicted_image,0.0,1.0).reshape(SIZE,SIZE,3)\n",
        "print(\"Images for \", title)\n",
        "show_image_to_sketch(test_images[i],test_sketch_images[i],predicted, title)\n",
        "get_similarity_metrics(test_sketch_images[i],predicted)"
      ],
      "metadata": {
        "id": "oWyX0lnl3gEa"
      },
      "execution_count": null,
      "outputs": []
    },
    {
      "cell_type": "markdown",
      "metadata": {
        "id": "R1FsOcPmQVZZ"
      },
      "source": [
        "### Sketch2face"
      ]
    },
    {
      "cell_type": "code",
      "execution_count": null,
      "metadata": {
        "id": "dQ3YOjCtQVZZ"
      },
      "outputs": [],
      "source": [
        "for opt in listOfOptimizers:\n",
        "  for loss in listOfLossFunctions:\n",
        "    title = f\"Model with Loss function {loss}  and Optimizer {opt}\"\n",
        "    print(title)\n",
        "    # Training\n",
        "    if opt == \"SGD\":\n",
        "      optimizer = tf.keras.optimizers.SGD(learning_rate=learning_rate)\n",
        "    elif opt == \"RMSProp\":\n",
        "      optimizer = tf.keras.optimizers.RMSprop(learning_rate=learning_rate)\n",
        "    else:\n",
        "      optimizer = tf.keras.optimizers.Adam(learning_rate=learning_rate)\n",
        "\n",
        "    conv_model2 = conv_model()\n",
        "    conv_model2.compile(optimizer = optimizer, loss = loss, metrics = listOfMetrics)\n",
        "    conv_fit = conv_model2.fit(train_sketch_images, train_images, epochs = number_of_epochs, verbose = 0)\n",
        "    conv_fit_history_s2f.append(conv_fit)\n",
        "\n",
        "    #Evalution on test data\n",
        "    prediction_on_test_data = conv_model2.evaluate(test_sketch_images, test_images)\n",
        "    print (prediction_on_test_data)\n",
        "    print(\"Loss: \", prediction_on_test_data[0])\n",
        "    print(\"Accuracy: \", np.round(prediction_on_test_data[1] * 100,1))\n",
        "    \n",
        "    #Showing images\n",
        "    # ls = random.sample(range(1, len(test_sketch_images)), 3)\n",
        "    # print(f\"length {len(test_images)}, samples = {ls}\")\n",
        "    # for i in ls:\n",
        "    #   # Prediction\n",
        "    predicted_image = conv_model2.predict(test_sketch_images[i].reshape(1,SIZE,SIZE,3))\n",
        "    predicted =np.clip(predicted_image,0.0,1.0).reshape(SIZE,SIZE,3)\n",
        "    print(\"Images for \", title)\n",
        "    show_sketch_to_image(test_sketch_images[i],test_images[i],predicted, title)"
      ]
    },
    {
      "cell_type": "code",
      "source": [
        "title = f\"Model with Loss function {loss}  and Optimizer {opt}\"\n",
        "optimizer = tf.keras.optimizers.Adam(learning_rate=learning_rate)\n",
        "\n",
        "conv_model2 = conv_model()\n",
        "conv_model2.compile(optimizer = optimizer, loss = loss, metrics = listOfMetrics)\n",
        "conv_fit = conv_model2.fit(train_sketch_images, train_images, epochs = number_of_epochs, verbose = 0)\n",
        "conv_fit_history_s2f.append(conv_fit)\n",
        "\n",
        "#Evalution on test data\n",
        "prediction_on_test_data = conv_model2.evaluate(test_sketch_images, test_images)\n",
        "print (prediction_on_test_data)\n",
        "print(\"Loss: \", prediction_on_test_data[0])\n",
        "print(\"Accuracy: \", np.round(prediction_on_test_data[1] * 100,1))\n",
        "\n",
        "predicted_image = conv_model2.predict(test_sketch_images[i].reshape(1,SIZE,SIZE,3))\n",
        "predicted =np.clip(predicted_image,0.0,1.0).reshape(SIZE,SIZE,3)\n",
        "print(\"Images for \", title)\n",
        "show_sketch_to_image(test_sketch_images[i],test_images[i],predicted, title)"
      ],
      "metadata": {
        "id": "Ag44N4cexGYc"
      },
      "execution_count": null,
      "outputs": []
    },
    {
      "cell_type": "code",
      "source": [
        "print(\"Similarity measures for Sketch2Face - Convolutional\")\n",
        "get_similarity_measures(test_images[i],predicted)"
      ],
      "metadata": {
        "id": "BatPFOrz2RKV"
      },
      "execution_count": null,
      "outputs": []
    },
    {
      "cell_type": "markdown",
      "metadata": {
        "id": "fFcY-qtTKCoF"
      },
      "source": [
        "##  3\\. Variational AE \n"
      ]
    },
    {
      "cell_type": "code",
      "execution_count": null,
      "metadata": {
        "id": "wmp2M8QjkIsH"
      },
      "outputs": [],
      "source": [
        "m = 50\n",
        "z_dim = 10\n",
        "n_epoch = 20\n",
        "img_size = 256\n",
        "num_channels = 3"
      ]
    },
    {
      "cell_type": "code",
      "source": [
        "original_dim = img_size * img_size * num_channels \n",
        "intermediate_dim = img_size\n",
        "latent_dim = z_dim"
      ],
      "metadata": {
        "id": "jAa44weoSZOX"
      },
      "execution_count": null,
      "outputs": []
    },
    {
      "cell_type": "markdown",
      "metadata": {
        "id": "BWYqdjfroHdW"
      },
      "source": [
        "##3\\.2 vae\n"
      ]
    },
    {
      "cell_type": "markdown",
      "metadata": {
        "id": "l2iexhL8oOtF"
      },
      "source": [
        "https://blog.paperspace.com/how-to-build-variational-autoencoder-keras/"
      ]
    },
    {
      "cell_type": "code",
      "execution_count": null,
      "metadata": {
        "id": "gOrwWK-qoNVd"
      },
      "outputs": [],
      "source": [
        "# Encoder\n",
        "x = tf.keras.layers.Input(shape=(img_size, img_size, num_channels), name=\"encoder_input\")\n",
        "\n",
        "# for i in range(0,5):\n",
        "#   encoder_conv_layer = Conv2D(filters=1, kernel_size=(3, 3), padding=\"same\", strides=1, name=\"encoder_conv_\"+ i)(x)\n",
        "#   encoder_norm_layer = BatchNormalization(name=\"encoder_norm_1\")(encoder_conv_layer1)\n",
        "#   encoder_activ_layer = LeakyReLU(name=\"encoder_leakyrelu_1\")(encoder_norm_layer1)\n",
        "\n",
        "\n",
        "encoder_conv_layer1 = Conv2D(filters=3, kernel_size=(3, 3), padding=\"same\", strides=1, name=\"encoder_conv_1\")(x)\n",
        "encoder_norm_layer1 = BatchNormalization(name=\"encoder_norm_1\")(encoder_conv_layer1)\n",
        "encoder_activ_layer1 = LeakyReLU(name=\"encoder_leakyrelu_1\")(encoder_norm_layer1)\n",
        "\n",
        "encoder_conv_layer2 = Conv2D(filters=32, kernel_size=(3,3), padding=\"same\", strides=1, name=\"encoder_conv_2\")(encoder_activ_layer1)\n",
        "encoder_norm_layer2 = BatchNormalization(name=\"encoder_norm_2\")(encoder_conv_layer2)\n",
        "encoder_activ_layer2 = LeakyReLU(name=\"encoder_activ_layer_2\")(encoder_norm_layer2)\n",
        "\n",
        "encoder_conv_layer3 = Conv2D(filters=64, kernel_size=(3,3), padding=\"same\", strides=2, name=\"encoder_conv_3\")(encoder_activ_layer2)\n",
        "encoder_norm_layer3 = BatchNormalization(name=\"encoder_norm_3\")(encoder_conv_layer3)\n",
        "encoder_activ_layer3 = LeakyReLU(name=\"encoder_activ_layer_3\")(encoder_norm_layer3)\n",
        "\n",
        "encoder_conv_layer4 = Conv2D(filters=64, kernel_size=(3,3), padding=\"same\", strides=2, name=\"encoder_conv_4\")(encoder_activ_layer3)\n",
        "encoder_norm_layer4 = BatchNormalization(name=\"encoder_norm_4\")(encoder_conv_layer4)\n",
        "encoder_activ_layer4 = LeakyReLU(name=\"encoder_activ_layer_4\")(encoder_norm_layer4)\n",
        "\n",
        "encoder_conv_layer5 = Conv2D(filters=64, kernel_size=(3,3), padding=\"same\", strides=1, name=\"encoder_conv_5\")(encoder_activ_layer4)\n",
        "encoder_norm_layer5 = BatchNormalization(name=\"encoder_norm_5\")(encoder_conv_layer5)\n",
        "encoder_activ_layer5 = LeakyReLU(name=\"encoder_activ_layer_5\")(encoder_norm_layer5)\n",
        "\n",
        "shape_before_flatten = K.int_shape(encoder_activ_layer5)[1:]\n",
        "encoder_flatten = Flatten()(encoder_activ_layer5)\n",
        "\n",
        "encoder_mu = Dense(units=z_dim, name=\"encoder_mu\")(encoder_flatten)\n",
        "encoder_log_variance = Dense(units=z_dim, name=\"encoder_log_variance\")(encoder_flatten)\n",
        "\n",
        "encoder_mu_log_variance_model = Model(x, (encoder_mu, encoder_log_variance), name=\"encoder_mu_log_variance_model\")\n"
      ]
    },
    {
      "cell_type": "code",
      "execution_count": null,
      "metadata": {
        "id": "kJZ04P4RojZr"
      },
      "outputs": [],
      "source": [
        "def sampling(mu_log_variance):\n",
        "    mu, log_variance = mu_log_variance\n",
        "    epsilon = K.random_normal(shape=K.shape(mu), mean=0.0, stddev=1.0)\n",
        "    random_sample = mu + K.exp(log_variance/2) * epsilon\n",
        "    return random_sample"
      ]
    },
    {
      "cell_type": "code",
      "execution_count": null,
      "metadata": {
        "id": "ijeUy_t4olFY"
      },
      "outputs": [],
      "source": [
        "encoder_output = Lambda(sampling, name=\"encoder_output\")([encoder_mu, encoder_log_variance])\n",
        "encoder = Model(x, encoder_output, name=\"vae_encoder_model\")"
      ]
    },
    {
      "cell_type": "code",
      "execution_count": null,
      "metadata": {
        "id": "IlqCNZV2DevE"
      },
      "outputs": [],
      "source": [
        "decoder_input = Input(shape=(z_dim), name=\"decoder_input\")"
      ]
    },
    {
      "cell_type": "code",
      "execution_count": null,
      "metadata": {
        "id": "v7aQHME7DshA"
      },
      "outputs": [],
      "source": [
        "decoder_dense_layer1 = Dense(units=np.prod(shape_before_flatten), name=\"decoder_dense_1\")(decoder_input)\n",
        "decoder_reshape = keras.layers.Reshape(target_shape=shape_before_flatten)(decoder_dense_layer1)"
      ]
    },
    {
      "cell_type": "code",
      "execution_count": null,
      "metadata": {
        "id": "g-WYu3TKD2Ic"
      },
      "outputs": [],
      "source": [
        "decoder_conv_tran_layer1 =  Conv2DTranspose(filters=64, kernel_size=(3, 3), padding=\"same\", strides=1, name=\"decoder_conv_tran_1\")(decoder_reshape)\n",
        "decoder_norm_layer1 =  BatchNormalization(name=\"decoder_norm_1\")(decoder_conv_tran_layer1)\n",
        "decoder_activ_layer1 =  LeakyReLU(name=\"decoder_leakyrelu_1\")(decoder_norm_layer1)\n",
        "\n",
        "decoder_conv_tran_layer2 =  Conv2DTranspose(filters=64, kernel_size=(3, 3), padding=\"same\", strides=2, name=\"decoder_conv_tran_2\")(decoder_activ_layer1)\n",
        "decoder_norm_layer2 =  BatchNormalization(name=\"decoder_norm_2\")(decoder_conv_tran_layer2)\n",
        "decoder_activ_layer2 =  LeakyReLU(name=\"decoder_leakyrelu_2\")(decoder_norm_layer2)\n",
        "\n",
        "decoder_conv_tran_layer3 =  Conv2DTranspose(filters=64, kernel_size=(3, 3), padding=\"same\", strides=2, name=\"decoder_conv_tran_3\")(decoder_activ_layer2)\n",
        "decoder_norm_layer3 =  BatchNormalization(name=\"decoder_norm_3\")(decoder_conv_tran_layer3)\n",
        "decoder_activ_layer3 =  LeakyReLU(name=\"decoder_leakyrelu_3\")(decoder_norm_layer3)\n",
        "\n",
        "decoder_conv_tran_layer4 =  Conv2DTranspose(filters=3, kernel_size=(3, 3), padding=\"same\", strides=1, name=\"decoder_conv_tran_4\")(decoder_activ_layer3)\n",
        "decoder_output =  LeakyReLU(name=\"decoder_output\")(decoder_conv_tran_layer4 )"
      ]
    },
    {
      "cell_type": "code",
      "execution_count": null,
      "metadata": {
        "id": "ur1lI0iKEImr"
      },
      "outputs": [],
      "source": [
        "decoder = Model(decoder_input, decoder_output, name=\"decoder_model\")"
      ]
    },
    {
      "cell_type": "code",
      "execution_count": null,
      "metadata": {
        "id": "FljgLivOEKqg"
      },
      "outputs": [],
      "source": [
        "def vae_model():\n",
        "  vae_encoder_output = encoder(encoder_input)\n",
        "  vae_decoder_output = decoder(vae_encoder_output)\n",
        "  return tf.keras.Model(encoder_input, vae_decoder_output, name=\"VAEModel\")"
      ]
    },
    {
      "cell_type": "code",
      "execution_count": null,
      "metadata": {
        "id": "aXqWlF6sE2wa"
      },
      "outputs": [],
      "source": [
        "#@title\n",
        "def loss_func(encoder_mu, encoder_log_variance):\n",
        "    def vae_reconstruction_loss(y_true, y_predict):\n",
        "        reconstruction_loss_factor = 1000\n",
        "        reconstruction_loss = tf.keras.backend.mean(tf.keras.backend.square(y_true-y_predict), axis=[1, 2, 3])\n",
        "        return reconstruction_loss_factor * reconstruction_loss\n",
        "\n",
        "    def vae_kl_loss(encoder_mu, encoder_log_variance):\n",
        "        kl_loss = -0.5 * tf.keras.backend.sum(1.0 + encoder_log_variance - tf.keras.backend.square(encoder_mu) - tf.keras.backend.exp(encoder_log_variance), axis=1)\n",
        "        return kl_loss\n",
        "\n",
        "    def vae_kl_loss_metric(y_true, y_predict):\n",
        "        kl_loss = -0.5 * tf.keras.backend.sum(1.0 + encoder_log_variance - tf.keras.backend.square(encoder_mu) - tf.keras.backend.exp(encoder_log_variance), axis=1)\n",
        "        return kl_loss\n",
        "\n",
        "    def vae_loss(y_true, y_predict):\n",
        "        reconstruction_loss = vae_reconstruction_loss(y_true, y_predict)\n",
        "        kl_loss = vae_kl_loss(y_true, y_predict)\n",
        "\n",
        "        loss = reconstruction_loss + kl_loss\n",
        "        return loss\n",
        "\n",
        "    return vae_loss"
      ]
    },
    {
      "cell_type": "code",
      "source": [
        "vae_model_f2s = vae_model()\n",
        "#vae_model_f2s.compile(optimizer = optimizer, loss = loss, metrics = listOfMetrics)\n",
        "    "
      ],
      "metadata": {
        "id": "Tc9bPolXyDSd"
      },
      "execution_count": null,
      "outputs": []
    },
    {
      "cell_type": "code",
      "execution_count": null,
      "metadata": {
        "id": "VWKEMyUuE0s9"
      },
      "outputs": [],
      "source": [
        "vae_model_f2s.compile(optimizer=tf.keras.optimizers.Adam(0.001), loss=loss_func(encoder_mu, encoder_log_variance))"
      ]
    },
    {
      "cell_type": "code",
      "source": [
        "vae_fit = vae_model_f2s.fit(train_images, train_sketch_images, epochs = n_epoch, verbose = 1)\n"
      ],
      "metadata": {
        "id": "wFEGvPpzyVRx"
      },
      "execution_count": null,
      "outputs": []
    },
    {
      "cell_type": "code",
      "source": [
        "vae_encoder_output = encoder(encoder_input)\n",
        "vae_decoder_output = decoder(vae_encoder_output)\n",
        "vae_model =  Model(encoder_input, vae_decoder_output, name=\"VAEModel\")"
      ],
      "metadata": {
        "id": "P7JKpCChy4Ez"
      },
      "execution_count": null,
      "outputs": []
    },
    {
      "cell_type": "code",
      "source": [
        "vae_model.compile(optimizer=tf.keras.optimizers.Adam(0.0005), loss=loss_func(encoder_mu, encoder_log_variance))\n",
        "vae_model.fit(img_array_RGB, sketch_array_changed, epochs = n_epoch, verbose = 1)"
      ],
      "metadata": {
        "colab": {
          "base_uri": "https://localhost:8080/",
          "height": 796
        },
        "id": "VMQeDt6wy76c",
        "outputId": "37f83497-9aeb-4df2-d77f-4a17895a338f"
      },
      "execution_count": null,
      "outputs": [
        {
          "output_type": "stream",
          "name": "stdout",
          "text": [
            "Epoch 1/20\n"
          ]
        },
        {
          "output_type": "error",
          "ename": "ValueError",
          "evalue": "ignored",
          "traceback": [
            "\u001b[0;31m---------------------------------------------------------------------------\u001b[0m",
            "\u001b[0;31mValueError\u001b[0m                                Traceback (most recent call last)",
            "\u001b[0;32m<ipython-input-90-6627456181ee>\u001b[0m in \u001b[0;36m<module>\u001b[0;34m()\u001b[0m\n\u001b[1;32m      1\u001b[0m \u001b[0mvae_model\u001b[0m\u001b[0;34m.\u001b[0m\u001b[0mcompile\u001b[0m\u001b[0;34m(\u001b[0m\u001b[0moptimizer\u001b[0m\u001b[0;34m=\u001b[0m\u001b[0mtf\u001b[0m\u001b[0;34m.\u001b[0m\u001b[0mkeras\u001b[0m\u001b[0;34m.\u001b[0m\u001b[0moptimizers\u001b[0m\u001b[0;34m.\u001b[0m\u001b[0mAdam\u001b[0m\u001b[0;34m(\u001b[0m\u001b[0;36m0.0005\u001b[0m\u001b[0;34m)\u001b[0m\u001b[0;34m,\u001b[0m \u001b[0mloss\u001b[0m\u001b[0;34m=\u001b[0m\u001b[0mloss_func\u001b[0m\u001b[0;34m(\u001b[0m\u001b[0mencoder_mu\u001b[0m\u001b[0;34m,\u001b[0m \u001b[0mencoder_log_variance\u001b[0m\u001b[0;34m)\u001b[0m\u001b[0;34m)\u001b[0m\u001b[0;34m\u001b[0m\u001b[0;34m\u001b[0m\u001b[0m\n\u001b[0;32m----> 2\u001b[0;31m \u001b[0mvae_model\u001b[0m\u001b[0;34m.\u001b[0m\u001b[0mfit\u001b[0m\u001b[0;34m(\u001b[0m\u001b[0mimg_array_RGB\u001b[0m\u001b[0;34m,\u001b[0m \u001b[0msketch_array_changed\u001b[0m\u001b[0;34m,\u001b[0m \u001b[0mepochs\u001b[0m \u001b[0;34m=\u001b[0m \u001b[0mn_epoch\u001b[0m\u001b[0;34m,\u001b[0m \u001b[0mverbose\u001b[0m \u001b[0;34m=\u001b[0m \u001b[0;36m1\u001b[0m\u001b[0;34m)\u001b[0m\u001b[0;34m\u001b[0m\u001b[0;34m\u001b[0m\u001b[0m\n\u001b[0m",
            "\u001b[0;32m/usr/local/lib/python3.7/dist-packages/keras/utils/traceback_utils.py\u001b[0m in \u001b[0;36merror_handler\u001b[0;34m(*args, **kwargs)\u001b[0m\n\u001b[1;32m     65\u001b[0m     \u001b[0;32mexcept\u001b[0m \u001b[0mException\u001b[0m \u001b[0;32mas\u001b[0m \u001b[0me\u001b[0m\u001b[0;34m:\u001b[0m  \u001b[0;31m# pylint: disable=broad-except\u001b[0m\u001b[0;34m\u001b[0m\u001b[0;34m\u001b[0m\u001b[0m\n\u001b[1;32m     66\u001b[0m       \u001b[0mfiltered_tb\u001b[0m \u001b[0;34m=\u001b[0m \u001b[0m_process_traceback_frames\u001b[0m\u001b[0;34m(\u001b[0m\u001b[0me\u001b[0m\u001b[0;34m.\u001b[0m\u001b[0m__traceback__\u001b[0m\u001b[0;34m)\u001b[0m\u001b[0;34m\u001b[0m\u001b[0;34m\u001b[0m\u001b[0m\n\u001b[0;32m---> 67\u001b[0;31m       \u001b[0;32mraise\u001b[0m \u001b[0me\u001b[0m\u001b[0;34m.\u001b[0m\u001b[0mwith_traceback\u001b[0m\u001b[0;34m(\u001b[0m\u001b[0mfiltered_tb\u001b[0m\u001b[0;34m)\u001b[0m \u001b[0;32mfrom\u001b[0m \u001b[0;32mNone\u001b[0m\u001b[0;34m\u001b[0m\u001b[0;34m\u001b[0m\u001b[0m\n\u001b[0m\u001b[1;32m     68\u001b[0m     \u001b[0;32mfinally\u001b[0m\u001b[0;34m:\u001b[0m\u001b[0;34m\u001b[0m\u001b[0;34m\u001b[0m\u001b[0m\n\u001b[1;32m     69\u001b[0m       \u001b[0;32mdel\u001b[0m \u001b[0mfiltered_tb\u001b[0m\u001b[0;34m\u001b[0m\u001b[0;34m\u001b[0m\u001b[0m\n",
            "\u001b[0;32m/usr/local/lib/python3.7/dist-packages/tensorflow/python/framework/func_graph.py\u001b[0m in \u001b[0;36mautograph_handler\u001b[0;34m(*args, **kwargs)\u001b[0m\n\u001b[1;32m   1145\u001b[0m           \u001b[0;32mexcept\u001b[0m \u001b[0mException\u001b[0m \u001b[0;32mas\u001b[0m \u001b[0me\u001b[0m\u001b[0;34m:\u001b[0m  \u001b[0;31m# pylint:disable=broad-except\u001b[0m\u001b[0;34m\u001b[0m\u001b[0;34m\u001b[0m\u001b[0m\n\u001b[1;32m   1146\u001b[0m             \u001b[0;32mif\u001b[0m \u001b[0mhasattr\u001b[0m\u001b[0;34m(\u001b[0m\u001b[0me\u001b[0m\u001b[0;34m,\u001b[0m \u001b[0;34m\"ag_error_metadata\"\u001b[0m\u001b[0;34m)\u001b[0m\u001b[0;34m:\u001b[0m\u001b[0;34m\u001b[0m\u001b[0;34m\u001b[0m\u001b[0m\n\u001b[0;32m-> 1147\u001b[0;31m               \u001b[0;32mraise\u001b[0m \u001b[0me\u001b[0m\u001b[0;34m.\u001b[0m\u001b[0mag_error_metadata\u001b[0m\u001b[0;34m.\u001b[0m\u001b[0mto_exception\u001b[0m\u001b[0;34m(\u001b[0m\u001b[0me\u001b[0m\u001b[0;34m)\u001b[0m\u001b[0;34m\u001b[0m\u001b[0;34m\u001b[0m\u001b[0m\n\u001b[0m\u001b[1;32m   1148\u001b[0m             \u001b[0;32melse\u001b[0m\u001b[0;34m:\u001b[0m\u001b[0;34m\u001b[0m\u001b[0;34m\u001b[0m\u001b[0m\n\u001b[1;32m   1149\u001b[0m               \u001b[0;32mraise\u001b[0m\u001b[0;34m\u001b[0m\u001b[0;34m\u001b[0m\u001b[0m\n",
            "\u001b[0;31mValueError\u001b[0m: in user code:\n\n    File \"/usr/local/lib/python3.7/dist-packages/keras/engine/training.py\", line 1021, in train_function  *\n        return step_function(self, iterator)\n    File \"/usr/local/lib/python3.7/dist-packages/keras/engine/training.py\", line 1010, in step_function  **\n        outputs = model.distribute_strategy.run(run_step, args=(data,))\n    File \"/usr/local/lib/python3.7/dist-packages/keras/engine/training.py\", line 1000, in run_step  **\n        outputs = model.train_step(data)\n    File \"/usr/local/lib/python3.7/dist-packages/keras/engine/training.py\", line 859, in train_step\n        y_pred = self(x, training=True)\n    File \"/usr/local/lib/python3.7/dist-packages/keras/utils/traceback_utils.py\", line 67, in error_handler\n        raise e.with_traceback(filtered_tb) from None\n    File \"/usr/local/lib/python3.7/dist-packages/keras/engine/input_spec.py\", line 200, in assert_input_compatibility\n        raise ValueError(f'Layer \"{layer_name}\" expects {len(input_spec)} input(s),'\n\n    ValueError: Layer \"VAEModel\" expects 1 input(s), but it received 188 input tensors. Inputs received: [<tf.Tensor 'IteratorGetNext:0' shape=(32, 256, 3) dtype=float32>, <tf.Tensor 'IteratorGetNext:1' shape=(32, 256, 3) dtype=float32>, <tf.Tensor 'IteratorGetNext:2' shape=(32, 256, 3) dtype=float32>, <tf.Tensor 'IteratorGetNext:3' shape=(32, 256, 3) dtype=float32>, <tf.Tensor 'IteratorGetNext:4' shape=(32, 256, 3) dtype=float32>, <tf.Tensor 'IteratorGetNext:5' shape=(32, 256, 3) dtype=float32>, <tf.Tensor 'IteratorGetNext:6' shape=(32, 256, 3) dtype=float32>, <tf.Tensor 'IteratorGetNext:7' shape=(32, 256, 3) dtype=float32>, <tf.Tensor 'IteratorGetNext:8' shape=(32, 256, 3) dtype=float32>, <tf.Tensor 'IteratorGetNext:9' shape=(32, 256, 3) dtype=float32>, <tf.Tensor 'IteratorGetNext:10' shape=(32, 256, 3) dtype=float32>, <tf.Tensor 'IteratorGetNext:11' shape=(32, 256, 3) dtype=float32>, <tf.Tensor 'IteratorGetNext:12' shape=(32, 256, 3) dtype=float32>, <tf.Tensor 'IteratorGetNext:13' shape=(32, 256, 3) dtype=float32>, <tf.Tensor 'IteratorGetNext:14' shape=(32, 256, 3) dtype=float32>, <tf.Tensor 'IteratorGetNext:15' shape=(32, 256, 3) dtype=float32>, <tf.Tensor 'IteratorGetNext:16' shape=(32, 256, 3) dtype=float32>, <tf.Tensor 'IteratorGetNext:17' shape=(32, 256, 3) dtype=float32>, <tf.Tensor 'IteratorGetNext:18' shape=(32, 256, 3) dtype=float32>, <tf.Tensor 'IteratorGetNext:19' shape=(32, 256, 3) dtype=float32>, <tf.Tensor 'IteratorGetNext:20' shape=(32, 256, 3) dtype=floa...\n"
          ]
        }
      ]
    },
    {
      "cell_type": "code",
      "execution_count": null,
      "metadata": {
        "id": "EVyRNHs4s9WQ",
        "colab": {
          "base_uri": "https://localhost:8080/"
        },
        "outputId": "5071f024-a6bb-4241-d95b-6be3c0ed063a"
      },
      "outputs": [
        {
          "output_type": "stream",
          "name": "stdout",
          "text": [
            "Model: \"VAEModel\"\n",
            "_________________________________________________________________\n",
            " Layer (type)                Output Shape              Param #   \n",
            "=================================================================\n",
            " input_1 (InputLayer)        [(None, 256, 256, 3)]     0         \n",
            "                                                                 \n",
            " vae_encoder_model (Function  (None, 10)               5336500   \n",
            " al)                                                             \n",
            "                                                                 \n",
            " decoder_model (Functional)  (None, 256, 256, 3)       2996867   \n",
            "                                                                 \n",
            "=================================================================\n",
            "Total params: 8,333,367\n",
            "Trainable params: 8,332,533\n",
            "Non-trainable params: 834\n",
            "_________________________________________________________________\n"
          ]
        }
      ],
      "source": [
        "# to get summary of model\n",
        "\n",
        "vae_model.summary()\n",
        "vae_fit_history_s2f = []\n",
        "vae_fit_history_f2s = []"
      ]
    },
    {
      "cell_type": "code",
      "source": [
        "listOfOptimizers=[\"Adam\"]\n",
        "listOfLossFunctions = [\"mae\"]"
      ],
      "metadata": {
        "id": "rvQqNKJDxq2W"
      },
      "execution_count": null,
      "outputs": []
    },
    {
      "cell_type": "markdown",
      "metadata": {
        "id": "GxZf5L-FCrk9"
      },
      "source": [
        "### Face2Sketch"
      ]
    },
    {
      "cell_type": "code",
      "execution_count": null,
      "metadata": {
        "id": "VggXXJeiCrk9",
        "colab": {
          "base_uri": "https://localhost:8080/",
          "height": 398
        },
        "outputId": "4cda78f0-726f-443c-d182-bd7b52acfb60"
      },
      "outputs": [
        {
          "output_type": "stream",
          "name": "stdout",
          "text": [
            "Model with Loss function mae  and Optimizer Adam\n"
          ]
        },
        {
          "output_type": "error",
          "ename": "ValueError",
          "evalue": "ignored",
          "traceback": [
            "\u001b[0;31m---------------------------------------------------------------------------\u001b[0m",
            "\u001b[0;31mValueError\u001b[0m                                Traceback (most recent call last)",
            "\u001b[0;32m<ipython-input-80-68b9560248a2>\u001b[0m in \u001b[0;36m<module>\u001b[0;34m()\u001b[0m\n\u001b[1;32m     11\u001b[0m       \u001b[0moptimizer\u001b[0m \u001b[0;34m=\u001b[0m \u001b[0mtf\u001b[0m\u001b[0;34m.\u001b[0m\u001b[0mkeras\u001b[0m\u001b[0;34m.\u001b[0m\u001b[0moptimizers\u001b[0m\u001b[0;34m.\u001b[0m\u001b[0mAdam\u001b[0m\u001b[0;34m(\u001b[0m\u001b[0mlearning_rate\u001b[0m\u001b[0;34m=\u001b[0m\u001b[0mlearning_rate\u001b[0m\u001b[0;34m)\u001b[0m\u001b[0;34m\u001b[0m\u001b[0;34m\u001b[0m\u001b[0m\n\u001b[1;32m     12\u001b[0m \u001b[0;34m\u001b[0m\u001b[0m\n\u001b[0;32m---> 13\u001b[0;31m     \u001b[0mvae_model_f2s\u001b[0m \u001b[0;34m=\u001b[0m \u001b[0mvae_model\u001b[0m\u001b[0;34m(\u001b[0m\u001b[0;34m)\u001b[0m\u001b[0;34m\u001b[0m\u001b[0;34m\u001b[0m\u001b[0m\n\u001b[0m\u001b[1;32m     14\u001b[0m     \u001b[0mvae_model_f2s\u001b[0m\u001b[0;34m.\u001b[0m\u001b[0mcompile\u001b[0m\u001b[0;34m(\u001b[0m\u001b[0moptimizer\u001b[0m \u001b[0;34m=\u001b[0m \u001b[0moptimizer\u001b[0m\u001b[0;34m,\u001b[0m \u001b[0mloss\u001b[0m \u001b[0;34m=\u001b[0m \u001b[0mloss\u001b[0m\u001b[0;34m,\u001b[0m \u001b[0mmetrics\u001b[0m \u001b[0;34m=\u001b[0m \u001b[0mlistOfMetrics\u001b[0m\u001b[0;34m)\u001b[0m\u001b[0;34m\u001b[0m\u001b[0;34m\u001b[0m\u001b[0m\n\u001b[1;32m     15\u001b[0m     \u001b[0mae_fit\u001b[0m \u001b[0;34m=\u001b[0m \u001b[0mvae_model_f2s\u001b[0m\u001b[0;34m.\u001b[0m\u001b[0mfit\u001b[0m\u001b[0;34m(\u001b[0m\u001b[0mtrain_images\u001b[0m\u001b[0;34m,\u001b[0m \u001b[0mtrain_sketch_images\u001b[0m\u001b[0;34m,\u001b[0m \u001b[0mepochs\u001b[0m \u001b[0;34m=\u001b[0m \u001b[0mn_epoch\u001b[0m\u001b[0;34m,\u001b[0m \u001b[0mverbose\u001b[0m \u001b[0;34m=\u001b[0m \u001b[0;36m1\u001b[0m\u001b[0;34m)\u001b[0m\u001b[0;34m\u001b[0m\u001b[0;34m\u001b[0m\u001b[0m\n",
            "\u001b[0;32m/usr/local/lib/python3.7/dist-packages/keras/utils/traceback_utils.py\u001b[0m in \u001b[0;36merror_handler\u001b[0;34m(*args, **kwargs)\u001b[0m\n\u001b[1;32m     65\u001b[0m     \u001b[0;32mexcept\u001b[0m \u001b[0mException\u001b[0m \u001b[0;32mas\u001b[0m \u001b[0me\u001b[0m\u001b[0;34m:\u001b[0m  \u001b[0;31m# pylint: disable=broad-except\u001b[0m\u001b[0;34m\u001b[0m\u001b[0;34m\u001b[0m\u001b[0m\n\u001b[1;32m     66\u001b[0m       \u001b[0mfiltered_tb\u001b[0m \u001b[0;34m=\u001b[0m \u001b[0m_process_traceback_frames\u001b[0m\u001b[0;34m(\u001b[0m\u001b[0me\u001b[0m\u001b[0;34m.\u001b[0m\u001b[0m__traceback__\u001b[0m\u001b[0;34m)\u001b[0m\u001b[0;34m\u001b[0m\u001b[0;34m\u001b[0m\u001b[0m\n\u001b[0;32m---> 67\u001b[0;31m       \u001b[0;32mraise\u001b[0m \u001b[0me\u001b[0m\u001b[0;34m.\u001b[0m\u001b[0mwith_traceback\u001b[0m\u001b[0;34m(\u001b[0m\u001b[0mfiltered_tb\u001b[0m\u001b[0;34m)\u001b[0m \u001b[0;32mfrom\u001b[0m \u001b[0;32mNone\u001b[0m\u001b[0;34m\u001b[0m\u001b[0;34m\u001b[0m\u001b[0m\n\u001b[0m\u001b[1;32m     68\u001b[0m     \u001b[0;32mfinally\u001b[0m\u001b[0;34m:\u001b[0m\u001b[0;34m\u001b[0m\u001b[0;34m\u001b[0m\u001b[0m\n\u001b[1;32m     69\u001b[0m       \u001b[0;32mdel\u001b[0m \u001b[0mfiltered_tb\u001b[0m\u001b[0;34m\u001b[0m\u001b[0;34m\u001b[0m\u001b[0m\n",
            "\u001b[0;32m/usr/local/lib/python3.7/dist-packages/keras/engine/base_layer.py\u001b[0m in \u001b[0;36m_split_out_first_arg\u001b[0;34m(self, args, kwargs)\u001b[0m\n\u001b[1;32m   3093\u001b[0m     \u001b[0;32melse\u001b[0m\u001b[0;34m:\u001b[0m\u001b[0;34m\u001b[0m\u001b[0;34m\u001b[0m\u001b[0m\n\u001b[1;32m   3094\u001b[0m       raise ValueError(\n\u001b[0;32m-> 3095\u001b[0;31m           'The first argument to `Layer.call` must always be passed.')\n\u001b[0m\u001b[1;32m   3096\u001b[0m     \u001b[0;32mreturn\u001b[0m \u001b[0minputs\u001b[0m\u001b[0;34m,\u001b[0m \u001b[0margs\u001b[0m\u001b[0;34m,\u001b[0m \u001b[0mkwargs\u001b[0m\u001b[0;34m\u001b[0m\u001b[0;34m\u001b[0m\u001b[0m\n\u001b[1;32m   3097\u001b[0m \u001b[0;34m\u001b[0m\u001b[0m\n",
            "\u001b[0;31mValueError\u001b[0m: The first argument to `Layer.call` must always be passed."
          ]
        }
      ],
      "source": [
        "for opt in listOfOptimizers:\n",
        "  for loss in listOfLossFunctions:\n",
        "    title = f\"Model with Loss function {loss}  and Optimizer {opt}\"\n",
        "    print(title)\n",
        "    # Training\n",
        "    if opt == \"SGD\":\n",
        "      optimizer = tf.keras.optimizers.SGD(learning_rate=learning_rate)\n",
        "    elif opt == \"RMSProp\":\n",
        "      optimizer = tf.keras.optimizers.RMSprop(learning_rate=learning_rate)\n",
        "    else:\n",
        "      optimizer = tf.keras.optimizers.Adam(learning_rate=learning_rate)\n",
        "\n",
        "    vae_model_f2s = vae_model()\n",
        "    vae_model_f2s.compile(optimizer = optimizer, loss = loss, metrics = listOfMetrics)\n",
        "    vae_fit = vae_model_f2s.fit(train_images, train_sketch_images, epochs = n_epoch, verbose = 1)\n",
        "    vae_fit_history_f2s.append(vae_fit)\n",
        "\n",
        "    #Evalution on test data\n",
        "    prediction_on_test_data = vae_model_f2s.evaluate(test_images, test_sketch_images)\n",
        "    print (prediction_on_test_data)\n",
        "    print(\"Loss: \", prediction_on_test_data[0])\n",
        "    print(\"Accuracy: \", np.round(prediction_on_test_data[1] * 100,1))\n",
        "    \n",
        "    #Showing images\n",
        "    ls = random.sample(range(1, len(test_images)), 3)\n",
        "    #print(f\"length {len(test_images)}, samples = {ls}\")\n",
        "    #for i in ls:\n",
        "      # Prediction\n",
        "    i=0\n",
        "    predicted_image = vae_model_f2s.predict(test_images[i].reshape(1,SIZE,SIZE,3))\n",
        "    predicted =np.clip(predicted_image,0.0,1.0).reshape(SIZE,SIZE,3)\n",
        "    print(\"Images for \", title)\n",
        "    show_image_to_sketch(test_images[i],test_sketch_images[i],predicted, title)"
      ]
    },
    {
      "cell_type": "markdown",
      "metadata": {
        "id": "SpMJqOMUCrk-"
      },
      "source": [
        "### Sketch2face"
      ]
    },
    {
      "cell_type": "code",
      "execution_count": null,
      "metadata": {
        "id": "vNxxySCfCrk-"
      },
      "outputs": [],
      "source": [
        "for opt in listOfOptimizers:\n",
        "  for loss in listOfLossFunctions:\n",
        "    title = f\"Model with Loss function {loss}  and Optimizer {opt}\"\n",
        "    print(title)\n",
        "    # Training\n",
        "    if opt == \"SGD\":\n",
        "      optimizer = tf.keras.optimizers.SGD(learning_rate=learning_rate)\n",
        "    elif opt == \"RMSProp\":\n",
        "      optimizer = tf.keras.optimizers.RMSprop(learning_rate=learning_rate)\n",
        "    else:\n",
        "      optimizer = tf.keras.optimizers.Adam(learning_rate=learning_rate)\n",
        "\n",
        "    ae_model2.compile(optimizer = optimizer, loss = loss, metrics = listOfMetrics)\n",
        "    ae_fit = ae_model2.fit(train_sketch_images, train_images, epochs = n_epoch, verbose = 0)\n",
        "    ae_fit_history_s2f.append(ae_fit)\n",
        "\n",
        "    #Evalution on test data\n",
        "    prediction_on_test_data = ae_model2.evaluate(test_sketch_images, test_images)\n",
        "    print (prediction_on_test_data)\n",
        "    print(\"Loss: \", prediction_on_test_data[0])\n",
        "    print(\"Accuracy: \", np.round(prediction_on_test_data[1] * 100,1))\n",
        "    \n",
        "    #Showing images\n",
        "    # ls = random.sample(range(1, len(test_sketch_images)), 3)\n",
        "    # print(f\"length {len(test_images)}, samples = {ls}\")\n",
        "    # for i in ls:\n",
        "      # Prediction\n",
        "    i=0\n",
        "    predicted_image = ae_model2.predict(test_sketch_images[i].reshape(1,SIZE,SIZE,3))\n",
        "    predicted =np.clip(predicted_image,0.0,1.0).reshape(SIZE,SIZE,3)\n",
        "    print(\"Images for \", title)\n",
        "    show_sketch_to_image(test_sketch_images[i],test_images[i],predicted, title)"
      ]
    },
    {
      "cell_type": "markdown",
      "source": [
        "## Specs"
      ],
      "metadata": {
        "id": "v-q6U_RpHz-5"
      }
    },
    {
      "cell_type": "code",
      "source": [
        "!df -h"
      ],
      "metadata": {
        "id": "_Ivua8NDHzed"
      },
      "execution_count": null,
      "outputs": []
    },
    {
      "cell_type": "code",
      "source": [
        "!cat /proc/cpuinfo"
      ],
      "metadata": {
        "id": "rmSXEAGeH3Pq"
      },
      "execution_count": null,
      "outputs": []
    },
    {
      "cell_type": "markdown",
      "metadata": {
        "id": "lHoaJf5gqQ98"
      },
      "source": [
        "# Rough notes - Please ignore"
      ]
    },
    {
      "cell_type": "code",
      "execution_count": null,
      "metadata": {
        "id": "p7J4fwogqTlL"
      },
      "outputs": [],
      "source": [
        "# Changing activation function to sigmoid"
      ]
    },
    {
      "cell_type": "markdown",
      "source": [
        "## VAE - keras"
      ],
      "metadata": {
        "id": "zxqzHYijDqr-"
      }
    },
    {
      "cell_type": "code",
      "execution_count": null,
      "metadata": {
        "id": "LqEWHu3rkf_R"
      },
      "outputs": [],
      "source": [
        "def sample_z(args):\n",
        "  mu, log_sigma = args\n",
        "  eps = K.random_normal(shape=( K.shape(mu)[0], z_dim ), mean=0, stddev=0.1)\n",
        "  return mu + K.exp(log_sigma ) * eps  # / 2"
      ]
    },
    {
      "cell_type": "code",
      "execution_count": null,
      "metadata": {
        "id": "lNNVbOF6lLV0"
      },
      "outputs": [],
      "source": [
        "vae_encoder_input =  keras.Input(shape=(original_dim,))\n",
        "x2 =  Dense(intermediate_dim, activation='relu', name= 'Encoderlayer1')(vae_encoder_input)\n",
        "#x2 =  Dense(intermediate_dim/2, activation='relu', name= 'Encoderlayer2')(x1)\n",
        "\n",
        "#x =  Dense(512, activation='relu')(encoder_inputs)\n",
        "\n",
        "# get log sigma\n",
        "mean_value = Dense(z_dim, name=\"mean\")(x2)\n",
        "log_sigma = Dense(z_dim, name=\"variance\")(x2)"
      ]
    },
    {
      "cell_type": "code",
      "execution_count": null,
      "metadata": {
        "id": "gKpOv_KPQt8f"
      },
      "outputs": [],
      "source": [
        "# Sample z ~ Q(z|X)\n",
        "encoder_output = Lambda(sample_z)([mean_value, log_sigma])\n",
        "vae_encoder = Model(vae_encoder_input, [mean_value, log_sigma, encoder_output], name='encoder')"
      ]
    },
    {
      "cell_type": "code",
      "execution_count": null,
      "metadata": {
        "id": "GQdJfv5sQtSE"
      },
      "outputs": [],
      "source": [
        "\n",
        "#latent space\n",
        "decoder_input = keras.Input(shape=(latent_dim,), name='sample_z')\n",
        "\n",
        "# P(X|z) -- decoder\n",
        "#decoder_hidden = Dense(128, activation='relu')\n",
        "#h_p = decoder_hidden(z)\n",
        "#y1 = Dense(intermediate_dim /2)(decoder_input)\n",
        "decoder_hidden = Dense(intermediate_dim , activation='relu')(decoder_input)\n",
        "\n",
        "#decoder_out = Dense(SIZE, activation='sigmoid')\n",
        "decoder_out = Dense(original_dim, activation='sigmoid')(decoder_hidden)\n",
        "vae_decoder = Model(decoder_input, decoder_out, name='decoder')"
      ]
    },
    {
      "cell_type": "code",
      "source": [
        "vae_encoder.summary()"
      ],
      "metadata": {
        "colab": {
          "base_uri": "https://localhost:8080/"
        },
        "id": "N1Zfj7KnXCBq",
        "outputId": "77a6119b-fbba-4e86-a8fc-5f9bcebaf41b"
      },
      "execution_count": null,
      "outputs": [
        {
          "output_type": "stream",
          "name": "stdout",
          "text": [
            "Model: \"encoder\"\n",
            "__________________________________________________________________________________________________\n",
            " Layer (type)                   Output Shape         Param #     Connected to                     \n",
            "==================================================================================================\n",
            " input_7 (InputLayer)           [(None, 196608)]     0           []                               \n",
            "                                                                                                  \n",
            " Encoderlayer1 (Dense)          (None, 256)          50331904    ['input_7[0][0]']                \n",
            "                                                                                                  \n",
            " mean (Dense)                   (None, 10)           2570        ['Encoderlayer1[0][0]']          \n",
            "                                                                                                  \n",
            " variance (Dense)               (None, 10)           2570        ['Encoderlayer1[0][0]']          \n",
            "                                                                                                  \n",
            " lambda_14 (Lambda)             (None, 10)           0           ['mean[0][0]',                   \n",
            "                                                                  'variance[0][0]']               \n",
            "                                                                                                  \n",
            "==================================================================================================\n",
            "Total params: 50,337,044\n",
            "Trainable params: 50,337,044\n",
            "Non-trainable params: 0\n",
            "__________________________________________________________________________________________________\n"
          ]
        }
      ]
    },
    {
      "cell_type": "code",
      "execution_count": null,
      "metadata": {
        "id": "rSONJAniR8_D",
        "colab": {
          "base_uri": "https://localhost:8080/"
        },
        "outputId": "a124d168-8bf4-4dbb-93d5-efab39739fb5"
      },
      "outputs": [
        {
          "output_type": "stream",
          "name": "stdout",
          "text": [
            "Model: \"decoder\"\n",
            "_________________________________________________________________\n",
            " Layer (type)                Output Shape              Param #   \n",
            "=================================================================\n",
            " sample_z (InputLayer)       [(None, 10)]              0         \n",
            "                                                                 \n",
            " dense_54 (Dense)            (None, 256)               2816      \n",
            "                                                                 \n",
            " dense_55 (Dense)            (None, 196608)            50528256  \n",
            "                                                                 \n",
            "=================================================================\n",
            "Total params: 50,531,072\n",
            "Trainable params: 50,531,072\n",
            "Non-trainable params: 0\n",
            "_________________________________________________________________\n"
          ]
        }
      ],
      "source": [
        "vae_decoder.summary()"
      ]
    },
    {
      "cell_type": "code",
      "execution_count": null,
      "metadata": {
        "id": "8eroEV0wBudk",
        "colab": {
          "base_uri": "https://localhost:8080/",
          "height": 362
        },
        "outputId": "02295b4d-4272-4ac5-9816-fa6eb8a650e2"
      },
      "outputs": [
        {
          "output_type": "error",
          "ename": "ValueError",
          "evalue": "ignored",
          "traceback": [
            "\u001b[0;31m---------------------------------------------------------------------------\u001b[0m",
            "\u001b[0;31mValueError\u001b[0m                                Traceback (most recent call last)",
            "\u001b[0;32m<ipython-input-295-49c36150299d>\u001b[0m in \u001b[0;36m<module>\u001b[0;34m()\u001b[0m\n\u001b[1;32m      1\u001b[0m \u001b[0moutputs\u001b[0m \u001b[0;34m=\u001b[0m \u001b[0mvae_decoder\u001b[0m\u001b[0;34m(\u001b[0m\u001b[0mvae_encoder\u001b[0m\u001b[0;34m(\u001b[0m\u001b[0mvae_encoder_input\u001b[0m\u001b[0;34m)\u001b[0m\u001b[0;34m[\u001b[0m\u001b[0;36m0\u001b[0m\u001b[0;34m]\u001b[0m\u001b[0;34m)\u001b[0m\u001b[0;34m\u001b[0m\u001b[0;34m\u001b[0m\u001b[0m\n\u001b[0;32m----> 2\u001b[0;31m \u001b[0mvae_model\u001b[0m \u001b[0;34m=\u001b[0m \u001b[0mModel\u001b[0m\u001b[0;34m(\u001b[0m\u001b[0mencoder_input\u001b[0m\u001b[0;34m,\u001b[0m \u001b[0moutputs\u001b[0m\u001b[0;34m,\u001b[0m \u001b[0mname\u001b[0m\u001b[0;34m=\u001b[0m\u001b[0;34m\"VAEmodel\"\u001b[0m\u001b[0;34m)\u001b[0m\u001b[0;34m\u001b[0m\u001b[0;34m\u001b[0m\u001b[0m\n\u001b[0m",
            "\u001b[0;32m/usr/local/lib/python3.7/dist-packages/tensorflow/python/training/tracking/base.py\u001b[0m in \u001b[0;36m_method_wrapper\u001b[0;34m(self, *args, **kwargs)\u001b[0m\n\u001b[1;32m    627\u001b[0m     \u001b[0mself\u001b[0m\u001b[0;34m.\u001b[0m\u001b[0m_self_setattr_tracking\u001b[0m \u001b[0;34m=\u001b[0m \u001b[0;32mFalse\u001b[0m  \u001b[0;31m# pylint: disable=protected-access\u001b[0m\u001b[0;34m\u001b[0m\u001b[0;34m\u001b[0m\u001b[0m\n\u001b[1;32m    628\u001b[0m     \u001b[0;32mtry\u001b[0m\u001b[0;34m:\u001b[0m\u001b[0;34m\u001b[0m\u001b[0;34m\u001b[0m\u001b[0m\n\u001b[0;32m--> 629\u001b[0;31m       \u001b[0mresult\u001b[0m \u001b[0;34m=\u001b[0m \u001b[0mmethod\u001b[0m\u001b[0;34m(\u001b[0m\u001b[0mself\u001b[0m\u001b[0;34m,\u001b[0m \u001b[0;34m*\u001b[0m\u001b[0margs\u001b[0m\u001b[0;34m,\u001b[0m \u001b[0;34m**\u001b[0m\u001b[0mkwargs\u001b[0m\u001b[0;34m)\u001b[0m\u001b[0;34m\u001b[0m\u001b[0;34m\u001b[0m\u001b[0m\n\u001b[0m\u001b[1;32m    630\u001b[0m     \u001b[0;32mfinally\u001b[0m\u001b[0;34m:\u001b[0m\u001b[0;34m\u001b[0m\u001b[0;34m\u001b[0m\u001b[0m\n\u001b[1;32m    631\u001b[0m       \u001b[0mself\u001b[0m\u001b[0;34m.\u001b[0m\u001b[0m_self_setattr_tracking\u001b[0m \u001b[0;34m=\u001b[0m \u001b[0mprevious_value\u001b[0m  \u001b[0;31m# pylint: disable=protected-access\u001b[0m\u001b[0;34m\u001b[0m\u001b[0;34m\u001b[0m\u001b[0m\n",
            "\u001b[0;32m/usr/local/lib/python3.7/dist-packages/keras/engine/functional.py\u001b[0m in \u001b[0;36m__init__\u001b[0;34m(self, inputs, outputs, name, trainable, **kwargs)\u001b[0m\n\u001b[1;32m    144\u001b[0m                   for t in tf.nest.flatten(inputs)]):\n\u001b[1;32m    145\u001b[0m         \u001b[0minputs\u001b[0m\u001b[0;34m,\u001b[0m \u001b[0moutputs\u001b[0m \u001b[0;34m=\u001b[0m \u001b[0mfunctional_utils\u001b[0m\u001b[0;34m.\u001b[0m\u001b[0mclone_graph_nodes\u001b[0m\u001b[0;34m(\u001b[0m\u001b[0minputs\u001b[0m\u001b[0;34m,\u001b[0m \u001b[0moutputs\u001b[0m\u001b[0;34m)\u001b[0m\u001b[0;34m\u001b[0m\u001b[0;34m\u001b[0m\u001b[0m\n\u001b[0;32m--> 146\u001b[0;31m     \u001b[0mself\u001b[0m\u001b[0;34m.\u001b[0m\u001b[0m_init_graph_network\u001b[0m\u001b[0;34m(\u001b[0m\u001b[0minputs\u001b[0m\u001b[0;34m,\u001b[0m \u001b[0moutputs\u001b[0m\u001b[0;34m)\u001b[0m\u001b[0;34m\u001b[0m\u001b[0;34m\u001b[0m\u001b[0m\n\u001b[0m\u001b[1;32m    147\u001b[0m \u001b[0;34m\u001b[0m\u001b[0m\n\u001b[1;32m    148\u001b[0m   \u001b[0;34m@\u001b[0m\u001b[0mtf\u001b[0m\u001b[0;34m.\u001b[0m\u001b[0m__internal__\u001b[0m\u001b[0;34m.\u001b[0m\u001b[0mtracking\u001b[0m\u001b[0;34m.\u001b[0m\u001b[0mno_automatic_dependency_tracking\u001b[0m\u001b[0;34m\u001b[0m\u001b[0;34m\u001b[0m\u001b[0m\n",
            "\u001b[0;32m/usr/local/lib/python3.7/dist-packages/tensorflow/python/training/tracking/base.py\u001b[0m in \u001b[0;36m_method_wrapper\u001b[0;34m(self, *args, **kwargs)\u001b[0m\n\u001b[1;32m    627\u001b[0m     \u001b[0mself\u001b[0m\u001b[0;34m.\u001b[0m\u001b[0m_self_setattr_tracking\u001b[0m \u001b[0;34m=\u001b[0m \u001b[0;32mFalse\u001b[0m  \u001b[0;31m# pylint: disable=protected-access\u001b[0m\u001b[0;34m\u001b[0m\u001b[0;34m\u001b[0m\u001b[0m\n\u001b[1;32m    628\u001b[0m     \u001b[0;32mtry\u001b[0m\u001b[0;34m:\u001b[0m\u001b[0;34m\u001b[0m\u001b[0;34m\u001b[0m\u001b[0m\n\u001b[0;32m--> 629\u001b[0;31m       \u001b[0mresult\u001b[0m \u001b[0;34m=\u001b[0m \u001b[0mmethod\u001b[0m\u001b[0;34m(\u001b[0m\u001b[0mself\u001b[0m\u001b[0;34m,\u001b[0m \u001b[0;34m*\u001b[0m\u001b[0margs\u001b[0m\u001b[0;34m,\u001b[0m \u001b[0;34m**\u001b[0m\u001b[0mkwargs\u001b[0m\u001b[0;34m)\u001b[0m\u001b[0;34m\u001b[0m\u001b[0;34m\u001b[0m\u001b[0m\n\u001b[0m\u001b[1;32m    630\u001b[0m     \u001b[0;32mfinally\u001b[0m\u001b[0;34m:\u001b[0m\u001b[0;34m\u001b[0m\u001b[0;34m\u001b[0m\u001b[0m\n\u001b[1;32m    631\u001b[0m       \u001b[0mself\u001b[0m\u001b[0;34m.\u001b[0m\u001b[0m_self_setattr_tracking\u001b[0m \u001b[0;34m=\u001b[0m \u001b[0mprevious_value\u001b[0m  \u001b[0;31m# pylint: disable=protected-access\u001b[0m\u001b[0;34m\u001b[0m\u001b[0;34m\u001b[0m\u001b[0m\n",
            "\u001b[0;32m/usr/local/lib/python3.7/dist-packages/keras/engine/functional.py\u001b[0m in \u001b[0;36m_init_graph_network\u001b[0;34m(self, inputs, outputs)\u001b[0m\n\u001b[1;32m    228\u001b[0m     \u001b[0;31m# Keep track of the network's nodes and layers.\u001b[0m\u001b[0;34m\u001b[0m\u001b[0;34m\u001b[0m\u001b[0;34m\u001b[0m\u001b[0m\n\u001b[1;32m    229\u001b[0m     nodes, nodes_by_depth, layers, _ = _map_graph_network(\n\u001b[0;32m--> 230\u001b[0;31m         self.inputs, self.outputs)\n\u001b[0m\u001b[1;32m    231\u001b[0m     \u001b[0mself\u001b[0m\u001b[0;34m.\u001b[0m\u001b[0m_network_nodes\u001b[0m \u001b[0;34m=\u001b[0m \u001b[0mnodes\u001b[0m\u001b[0;34m\u001b[0m\u001b[0;34m\u001b[0m\u001b[0m\n\u001b[1;32m    232\u001b[0m     \u001b[0mself\u001b[0m\u001b[0;34m.\u001b[0m\u001b[0m_nodes_by_depth\u001b[0m \u001b[0;34m=\u001b[0m \u001b[0mnodes_by_depth\u001b[0m\u001b[0;34m\u001b[0m\u001b[0;34m\u001b[0m\u001b[0m\n",
            "\u001b[0;32m/usr/local/lib/python3.7/dist-packages/keras/engine/functional.py\u001b[0m in \u001b[0;36m_map_graph_network\u001b[0;34m(inputs, outputs)\u001b[0m\n\u001b[1;32m   1035\u001b[0m           \u001b[0;32mif\u001b[0m \u001b[0mid\u001b[0m\u001b[0;34m(\u001b[0m\u001b[0mx\u001b[0m\u001b[0;34m)\u001b[0m \u001b[0;32mnot\u001b[0m \u001b[0;32min\u001b[0m \u001b[0mcomputable_tensors\u001b[0m\u001b[0;34m:\u001b[0m\u001b[0;34m\u001b[0m\u001b[0;34m\u001b[0m\u001b[0m\n\u001b[1;32m   1036\u001b[0m             raise ValueError(\n\u001b[0;32m-> 1037\u001b[0;31m                 \u001b[0;34mf'Graph disconnected: cannot obtain value for tensor {x} '\u001b[0m\u001b[0;34m\u001b[0m\u001b[0;34m\u001b[0m\u001b[0m\n\u001b[0m\u001b[1;32m   1038\u001b[0m                 \u001b[0;34mf'at layer \"{layer.name}\". The following previous layers '\u001b[0m\u001b[0;34m\u001b[0m\u001b[0;34m\u001b[0m\u001b[0m\n\u001b[1;32m   1039\u001b[0m                 f'were accessed without issue: {layers_with_complete_input}')\n",
            "\u001b[0;31mValueError\u001b[0m: Graph disconnected: cannot obtain value for tensor KerasTensor(type_spec=TensorSpec(shape=(None, 196608), dtype=tf.float32, name='input_8'), name='input_8', description=\"created by layer 'input_8'\") at layer \"encoder\". The following previous layers were accessed without issue: []"
          ]
        }
      ],
      "source": [
        "outputs = vae_decoder(vae_encoder(vae_encoder_input)[0])\n",
        "vae_model = Model(encoder_input, outputs, name=\"VAEmodel\")"
      ]
    },
    {
      "cell_type": "code",
      "execution_count": null,
      "metadata": {
        "id": "KSjqtLyNnFBC"
      },
      "outputs": [],
      "source": [
        "# # Encoder model, to encode input into latent variable\n",
        "# # We use the mean as the output as it is the center point, the representative of the gaussian\n",
        "\n",
        "\n",
        "# # Generator model, generate new data given latent variable z\n",
        "# d_in = Input(shape=(z_dim,))\n",
        "# d_h = decoder_hidden(d_in)\n",
        "# d_out = decoder_out(d_h)\n",
        "# decoder = Model(d_in, d_out)"
      ]
    },
    {
      "cell_type": "code",
      "execution_count": null,
      "metadata": {
        "id": "bUGNPt0oqagH"
      },
      "outputs": [],
      "source": [
        "def vae_loss(y_true, y_pred):\n",
        "  #Calculate loss = reconstruction loss + KL loss for each data in minibatch \n",
        "  # E[log P(X|z)]\n",
        "  recon = K.sum(K.binary_crossentropy(y_pred, y_true), axis=1)\n",
        "  # D_KL(Q(z|X) || P(z|X)); calculate in closed form as both dist. are Gaussian\n",
        "  kl = 0.5 * K.sum(K.exp(log_sigma) + K.square(mean_value) - 1 - log_sigma, axis= 1)\n",
        "  return recon + kl"
      ]
    },
    {
      "cell_type": "code",
      "execution_count": null,
      "metadata": {
        "id": "JfU22pz2qbB9",
        "colab": {
          "base_uri": "https://localhost:8080/",
          "height": 727
        },
        "outputId": "610937b3-88c0-4f6d-99c1-5c430e1e53fe"
      },
      "outputs": [
        {
          "output_type": "stream",
          "name": "stdout",
          "text": [
            "Epoch 1/20\n"
          ]
        },
        {
          "output_type": "error",
          "ename": "ValueError",
          "evalue": "ignored",
          "traceback": [
            "\u001b[0;31m---------------------------------------------------------------------------\u001b[0m",
            "\u001b[0;31mValueError\u001b[0m                                Traceback (most recent call last)",
            "\u001b[0;32m<ipython-input-222-7e1613bdfff7>\u001b[0m in \u001b[0;36m<module>\u001b[0;34m()\u001b[0m\n\u001b[1;32m      1\u001b[0m \u001b[0mvae_model\u001b[0m\u001b[0;34m.\u001b[0m\u001b[0mcompile\u001b[0m\u001b[0;34m(\u001b[0m\u001b[0moptimizer\u001b[0m\u001b[0;34m=\u001b[0m\u001b[0;34m'adam'\u001b[0m\u001b[0;34m,\u001b[0m \u001b[0mloss\u001b[0m\u001b[0;34m=\u001b[0m\u001b[0mvae_loss\u001b[0m\u001b[0;34m)\u001b[0m\u001b[0;34m\u001b[0m\u001b[0;34m\u001b[0m\u001b[0m\n\u001b[0;32m----> 2\u001b[0;31m \u001b[0mvae_model\u001b[0m\u001b[0;34m.\u001b[0m\u001b[0mfit\u001b[0m\u001b[0;34m(\u001b[0m\u001b[0mtrain_images\u001b[0m\u001b[0;34m,\u001b[0m \u001b[0mtrain_sketch_images\u001b[0m\u001b[0;34m,\u001b[0m \u001b[0mbatch_size\u001b[0m\u001b[0;34m=\u001b[0m\u001b[0;36m10\u001b[0m\u001b[0;34m,\u001b[0m \u001b[0mepochs\u001b[0m\u001b[0;34m=\u001b[0m\u001b[0mn_epoch\u001b[0m\u001b[0;34m,\u001b[0m \u001b[0mverbose\u001b[0m\u001b[0;34m=\u001b[0m\u001b[0;36m1\u001b[0m\u001b[0;34m)\u001b[0m\u001b[0;34m\u001b[0m\u001b[0;34m\u001b[0m\u001b[0m\n\u001b[0m",
            "\u001b[0;32m/usr/local/lib/python3.7/dist-packages/keras/utils/traceback_utils.py\u001b[0m in \u001b[0;36merror_handler\u001b[0;34m(*args, **kwargs)\u001b[0m\n\u001b[1;32m     65\u001b[0m     \u001b[0;32mexcept\u001b[0m \u001b[0mException\u001b[0m \u001b[0;32mas\u001b[0m \u001b[0me\u001b[0m\u001b[0;34m:\u001b[0m  \u001b[0;31m# pylint: disable=broad-except\u001b[0m\u001b[0;34m\u001b[0m\u001b[0;34m\u001b[0m\u001b[0m\n\u001b[1;32m     66\u001b[0m       \u001b[0mfiltered_tb\u001b[0m \u001b[0;34m=\u001b[0m \u001b[0m_process_traceback_frames\u001b[0m\u001b[0;34m(\u001b[0m\u001b[0me\u001b[0m\u001b[0;34m.\u001b[0m\u001b[0m__traceback__\u001b[0m\u001b[0;34m)\u001b[0m\u001b[0;34m\u001b[0m\u001b[0;34m\u001b[0m\u001b[0m\n\u001b[0;32m---> 67\u001b[0;31m       \u001b[0;32mraise\u001b[0m \u001b[0me\u001b[0m\u001b[0;34m.\u001b[0m\u001b[0mwith_traceback\u001b[0m\u001b[0;34m(\u001b[0m\u001b[0mfiltered_tb\u001b[0m\u001b[0;34m)\u001b[0m \u001b[0;32mfrom\u001b[0m \u001b[0;32mNone\u001b[0m\u001b[0;34m\u001b[0m\u001b[0;34m\u001b[0m\u001b[0m\n\u001b[0m\u001b[1;32m     68\u001b[0m     \u001b[0;32mfinally\u001b[0m\u001b[0;34m:\u001b[0m\u001b[0;34m\u001b[0m\u001b[0;34m\u001b[0m\u001b[0m\n\u001b[1;32m     69\u001b[0m       \u001b[0;32mdel\u001b[0m \u001b[0mfiltered_tb\u001b[0m\u001b[0;34m\u001b[0m\u001b[0;34m\u001b[0m\u001b[0m\n",
            "\u001b[0;32m/usr/local/lib/python3.7/dist-packages/tensorflow/python/framework/func_graph.py\u001b[0m in \u001b[0;36mautograph_handler\u001b[0;34m(*args, **kwargs)\u001b[0m\n\u001b[1;32m   1145\u001b[0m           \u001b[0;32mexcept\u001b[0m \u001b[0mException\u001b[0m \u001b[0;32mas\u001b[0m \u001b[0me\u001b[0m\u001b[0;34m:\u001b[0m  \u001b[0;31m# pylint:disable=broad-except\u001b[0m\u001b[0;34m\u001b[0m\u001b[0;34m\u001b[0m\u001b[0m\n\u001b[1;32m   1146\u001b[0m             \u001b[0;32mif\u001b[0m \u001b[0mhasattr\u001b[0m\u001b[0;34m(\u001b[0m\u001b[0me\u001b[0m\u001b[0;34m,\u001b[0m \u001b[0;34m\"ag_error_metadata\"\u001b[0m\u001b[0;34m)\u001b[0m\u001b[0;34m:\u001b[0m\u001b[0;34m\u001b[0m\u001b[0;34m\u001b[0m\u001b[0m\n\u001b[0;32m-> 1147\u001b[0;31m               \u001b[0;32mraise\u001b[0m \u001b[0me\u001b[0m\u001b[0;34m.\u001b[0m\u001b[0mag_error_metadata\u001b[0m\u001b[0;34m.\u001b[0m\u001b[0mto_exception\u001b[0m\u001b[0;34m(\u001b[0m\u001b[0me\u001b[0m\u001b[0;34m)\u001b[0m\u001b[0;34m\u001b[0m\u001b[0;34m\u001b[0m\u001b[0m\n\u001b[0m\u001b[1;32m   1148\u001b[0m             \u001b[0;32melse\u001b[0m\u001b[0;34m:\u001b[0m\u001b[0;34m\u001b[0m\u001b[0;34m\u001b[0m\u001b[0m\n\u001b[1;32m   1149\u001b[0m               \u001b[0;32mraise\u001b[0m\u001b[0;34m\u001b[0m\u001b[0;34m\u001b[0m\u001b[0m\n",
            "\u001b[0;31mValueError\u001b[0m: in user code:\n\n    File \"/usr/local/lib/python3.7/dist-packages/keras/engine/training.py\", line 1021, in train_function  *\n        return step_function(self, iterator)\n    File \"/usr/local/lib/python3.7/dist-packages/keras/engine/training.py\", line 1010, in step_function  **\n        outputs = model.distribute_strategy.run(run_step, args=(data,))\n    File \"/usr/local/lib/python3.7/dist-packages/keras/engine/training.py\", line 1000, in run_step  **\n        outputs = model.train_step(data)\n    File \"/usr/local/lib/python3.7/dist-packages/keras/engine/training.py\", line 859, in train_step\n        y_pred = self(x, training=True)\n    File \"/usr/local/lib/python3.7/dist-packages/keras/utils/traceback_utils.py\", line 67, in error_handler\n        raise e.with_traceback(filtered_tb) from None\n    File \"/usr/local/lib/python3.7/dist-packages/keras/engine/input_spec.py\", line 264, in assert_input_compatibility\n        raise ValueError(f'Input {input_index} of layer \"{layer_name}\" is '\n\n    ValueError: Exception encountered when calling layer \"VAEmodel\" (type Functional).\n    \n    Input 0 of layer \"decoder\" is incompatible with the layer: expected shape=(None, 10), found shape=(256, 256, 10)\n    \n    Call arguments received:\n      • inputs=tf.Tensor(shape=(None, 256, 256, 3), dtype=float32)\n      • training=True\n      • mask=None\n"
          ]
        }
      ],
      "source": [
        "vae_model.compile(optimizer='adam', loss=vae_loss)\n",
        "vae_model.fit(train_images, train_sketch_images, batch_size=10, epochs=n_epoch, verbose=1)"
      ]
    },
    {
      "cell_type": "markdown",
      "metadata": {
        "id": "T2NaSM8WCjmO"
      },
      "source": [
        "## 3\\.1 VAE labs"
      ]
    },
    {
      "cell_type": "code",
      "execution_count": null,
      "metadata": {
        "id": "WoSR-j_oCW8w"
      },
      "outputs": [],
      "source": [
        "inputs = keras.Input(shape=(original_dim,))\n",
        "h = keras.layers.Dense(intermediate_dim, activation='relu')(inputs)\n",
        "z_mean = keras.layers.Dense(latent_dim)(h)\n",
        "z_log_sigma = keras.layers.Dense(latent_dim)(h)"
      ]
    },
    {
      "cell_type": "code",
      "execution_count": null,
      "metadata": {
        "id": "1b1YSMFUCwK0"
      },
      "outputs": [],
      "source": [
        "#@title\n",
        "def sampling(args):\n",
        "    z_mean, z_log_sigma = args\n",
        "    epsilon = K.random_normal(shape=(K.shape(z_mean)[0], latent_dim),\n",
        "                              mean=0., stddev=0.1)\n",
        "    return z_mean + K.exp(z_log_sigma) * epsilon\n",
        "\n",
        "z = keras.layers.Lambda(sampling)([z_mean, z_log_sigma])\n"
      ]
    },
    {
      "cell_type": "code",
      "execution_count": null,
      "metadata": {
        "id": "DiaLYgnJCykU",
        "cellView": "form"
      },
      "outputs": [],
      "source": [
        "#@title\n",
        "# Create encoder\n",
        "encoder = keras.Model(inputs, [z_mean, z_log_sigma, z], name='encoder')\n",
        "\n",
        "# Create decoder\n",
        "latent_inputs = keras.Input(shape=(latent_dim,), name='z_sampling')\n",
        "x = keras.layers.Dense(intermediate_dim, activation='relu')(latent_inputs)\n",
        "outputs = keras.layers.Dense(original_dim, activation='sigmoid')(x)\n",
        "decoder = keras.Model(latent_inputs, outputs, name='decoder')\n",
        "\n",
        "# instantiate VAE model\n",
        "outputs = decoder(encoder(inputs)[2])\n",
        "vae = keras.Model(inputs, outputs, name='vae_mlp')"
      ]
    },
    {
      "cell_type": "code",
      "execution_count": null,
      "metadata": {
        "id": "kUJTK2o5C0cC",
        "colab": {
          "base_uri": "https://localhost:8080/",
          "height": 234
        },
        "outputId": "e72de833-571d-4116-c2f9-dbe93992a322"
      },
      "outputs": [
        {
          "output_type": "error",
          "ename": "NameError",
          "evalue": "ignored",
          "traceback": [
            "\u001b[0;31m---------------------------------------------------------------------------\u001b[0m",
            "\u001b[0;31mNameError\u001b[0m                                 Traceback (most recent call last)",
            "\u001b[0;32m<ipython-input-1-e7546c03c95d>\u001b[0m in \u001b[0;36m<module>\u001b[0;34m()\u001b[0m\n\u001b[0;32m----> 1\u001b[0;31m \u001b[0mreconstruction_loss\u001b[0m \u001b[0;34m=\u001b[0m \u001b[0mkeras\u001b[0m\u001b[0;34m.\u001b[0m\u001b[0mlosses\u001b[0m\u001b[0;34m.\u001b[0m\u001b[0mbinary_crossentropy\u001b[0m\u001b[0;34m(\u001b[0m\u001b[0minputs\u001b[0m\u001b[0;34m,\u001b[0m \u001b[0moutputs\u001b[0m\u001b[0;34m)\u001b[0m\u001b[0;34m\u001b[0m\u001b[0;34m\u001b[0m\u001b[0m\n\u001b[0m\u001b[1;32m      2\u001b[0m \u001b[0mreconstruction_loss\u001b[0m \u001b[0;34m*=\u001b[0m \u001b[0moriginal_dim\u001b[0m\u001b[0;34m\u001b[0m\u001b[0;34m\u001b[0m\u001b[0m\n\u001b[1;32m      3\u001b[0m \u001b[0mkl_loss\u001b[0m \u001b[0;34m=\u001b[0m \u001b[0;36m1\u001b[0m \u001b[0;34m+\u001b[0m \u001b[0mz_log_sigma\u001b[0m \u001b[0;34m-\u001b[0m \u001b[0mK\u001b[0m\u001b[0;34m.\u001b[0m\u001b[0msquare\u001b[0m\u001b[0;34m(\u001b[0m\u001b[0mz_mean\u001b[0m\u001b[0;34m)\u001b[0m \u001b[0;34m-\u001b[0m \u001b[0mK\u001b[0m\u001b[0;34m.\u001b[0m\u001b[0mexp\u001b[0m\u001b[0;34m(\u001b[0m\u001b[0mz_log_sigma\u001b[0m\u001b[0;34m)\u001b[0m\u001b[0;34m\u001b[0m\u001b[0;34m\u001b[0m\u001b[0m\n\u001b[1;32m      4\u001b[0m \u001b[0mkl_loss\u001b[0m \u001b[0;34m=\u001b[0m \u001b[0mK\u001b[0m\u001b[0;34m.\u001b[0m\u001b[0msum\u001b[0m\u001b[0;34m(\u001b[0m\u001b[0mkl_loss\u001b[0m\u001b[0;34m,\u001b[0m \u001b[0maxis\u001b[0m\u001b[0;34m=\u001b[0m\u001b[0;34m-\u001b[0m\u001b[0;36m1\u001b[0m\u001b[0;34m)\u001b[0m\u001b[0;34m\u001b[0m\u001b[0;34m\u001b[0m\u001b[0m\n\u001b[1;32m      5\u001b[0m \u001b[0mkl_loss\u001b[0m \u001b[0;34m*=\u001b[0m \u001b[0;34m-\u001b[0m\u001b[0;36m0.5\u001b[0m\u001b[0;34m\u001b[0m\u001b[0;34m\u001b[0m\u001b[0m\n",
            "\u001b[0;31mNameError\u001b[0m: name 'keras' is not defined"
          ]
        }
      ],
      "source": [
        "reconstruction_loss = keras.losses.binary_crossentropy(inputs, outputs)\n",
        "reconstruction_loss *= original_dim\n",
        "kl_loss = 1 + z_log_sigma - K.square(z_mean) - K.exp(z_log_sigma)\n",
        "kl_loss = K.sum(kl_loss, axis=-1)\n",
        "kl_loss *= -0.5\n",
        "vae_loss = K.mean(reconstruction_loss + kl_loss)\n",
        "vae.add_loss(vae_loss)\n",
        "vae.compile(optimizer='adam')"
      ]
    },
    {
      "cell_type": "code",
      "execution_count": null,
      "metadata": {
        "id": "9GdULlLSC2zg"
      },
      "outputs": [],
      "source": [
        "from keras.datasets import mnist\n",
        "import numpy as np\n",
        "import matplotlib.pyplot as plt\n",
        "\n",
        "(x_train, y_train), (x_test, y_test) = mnist.load_data()\n",
        "\n",
        "x_train = x_train.astype('float32') / 255.\n",
        "x_test = x_test.astype('float32') / 255.\n",
        "x_train = x_train.reshape((len(x_train), np.prod(x_train.shape[1:])))\n",
        "x_test = x_test.reshape((len(x_test), np.prod(x_test.shape[1:])))\n",
        "\n",
        "vae.fit(x_train, x_train,\n",
        "        epochs=n_epoch,\n",
        "        batch_size=32,\n",
        "        validation_data=(x_test, x_test))"
      ]
    },
    {
      "cell_type": "markdown",
      "metadata": {
        "id": "OZmLtbHsqZRL"
      },
      "source": [
        "https://stackoverflow.com/questions/66720722/autoencoder-outputs-bw-images-from-color"
      ]
    },
    {
      "cell_type": "markdown",
      "metadata": {
        "id": "DpHJXcsapjKC"
      },
      "source": [
        "## 4\\. Black white images"
      ]
    },
    {
      "cell_type": "markdown",
      "metadata": {
        "id": "8fxXFyiqp2h8"
      },
      "source": [
        "ae_model\n",
        "\n",
        "https://medium.com/analytics-vidhya/what-are-autoencoders-learn-how-to-enhance-a-blurred-image-using-an-autoencoder-58f45149e1f1"
      ]
    },
    {
      "cell_type": "markdown",
      "source": [
        "### RGB to grayscale"
      ],
      "metadata": {
        "id": "sOr3NO0ZWyhE"
      }
    },
    {
      "cell_type": "code",
      "execution_count": null,
      "metadata": {
        "id": "rGmYyoVDh35p"
      },
      "outputs": [],
      "source": [
        "def rgb2gray(rgb):\n",
        "    \"\"\"Convert from color image (RGB) to grayscale.\n",
        "       Source: opencv.org\n",
        "       grayscale = 0.299*red + 0.587*green + 0.114*blue\n",
        "    Argument:\n",
        "        rgb (tensor): rgb image\n",
        "    Return:\n",
        "        (tensor): grayscale image\n",
        "    \"\"\"\n",
        "    return np.dot(rgb[...,:3], [0.299, 0.587, 0.114])"
      ]
    },
    {
      "cell_type": "code",
      "execution_count": null,
      "metadata": {
        "id": "pjIS6q0YjHfz"
      },
      "outputs": [],
      "source": [
        "# convert color train and test images to gray\n",
        "img_array_gray = rgb2gray(img_array_LAB[0])\n",
        "#sketch_array_gray = rgb2gray(sketch_array)"
      ]
    },
    {
      "cell_type": "code",
      "execution_count": null,
      "metadata": {
        "id": "qoLLuY0BlA_s"
      },
      "outputs": [],
      "source": [
        "# g=tf.image.rgb_to_grayscale(\n",
        "#     train_images[0], name=None\n",
        "# ).numpy()\n",
        "\n",
        "# gg= np.expand_dims(g, axis=0)\n",
        "# gg"
      ]
    },
    {
      "cell_type": "code",
      "execution_count": null,
      "metadata": {
        "colab": {
          "base_uri": "https://localhost:8080/",
          "height": 286
        },
        "id": "CPsEpdTWkdiN",
        "outputId": "1d11b422-4a94-4023-fdd9-3467dade19d4"
      },
      "outputs": [
        {
          "output_type": "execute_result",
          "data": {
            "text/plain": [
              "<matplotlib.image.AxesImage at 0x7f19a98df050>"
            ]
          },
          "metadata": {},
          "execution_count": 31
        },
        {
          "output_type": "display_data",
          "data": {
            "image/png": "[encoded data removed]",
            "text/plain": [
              "<Figure size 432x288 with 1 Axes>"
            ]
          },
          "metadata": {
            "needs_background": "light"
          }
        }
      ],
      "source": [
        "plt.imshow(train_images[0])"
      ]
    },
    {
      "cell_type": "code",
      "execution_count": null,
      "metadata": {
        "id": "0cGiIOElp84I",
        "colab": {
          "base_uri": "https://localhost:8080/"
        },
        "outputId": "4f17589e-639e-409b-9f1a-1e08464c7309"
      },
      "outputs": [
        {
          "output_type": "stream",
          "name": "stderr",
          "text": [
            "100%|██████████| 88/88 [00:00<00:00, 277.78it/s]\n",
            "100%|██████████| 100/100 [00:00<00:00, 266.25it/s]\n"
          ]
        }
      ],
      "source": [
        "img_array_gray = []\n",
        "sketch_array_gray = []\n",
        "\n",
        "for i in tqdm(image_file_train):\n",
        "    image = cv2.imread(image_path_train + '/' + i,0)\n",
        "    # Sobel Edge Detection\n",
        "    #image = cv2.GaussianBlur(image, ksize = (3,3), sigmaX=0, sigmaY=0)\n",
        "    #sobelxy = cv2.Sobel(src=image, ddepth=cv2.CV_64F, dx=1, dy=1, ksize=5) # Sobel Edge \n",
        "    \n",
        "    img_array_gray.append(img_to_array(image))  \n",
        "    \n",
        "# for i in tqdm(sketch_file_train):\n",
        "#     image = cv2.imread(sketch_path_train + '/' + i,0)\n",
        "#     # Sobel Edge Detection\n",
        "#     #image = cv2.GaussianBlur(image, SigmaX=0, SigmaY=0)\n",
        "#     sobelxy = cv2.Sobel(src=image, ddepth=cv2.CV_64F, dx=1, dy=1, ksize=5) # Sobel Edge \n",
        "#     sketch_array_gray.append(img_to_array(image))\n",
        "\n",
        "for i in tqdm(image_file_test):\n",
        "    image = cv2.imread(image_path_test + '/' + i,0)   \n",
        "    # Sobel Edge Detection\n",
        "    #image = cv2.GaussianBlur(image,  ksize = (3,3),sigmaX=0, sigmaY=0)\n",
        "    #sobelxy = cv2.Sobel(src=image, ddepth=cv2.CV_64F, dx=1, dy=1, ksize=5) # Sobel Edge \n",
        "    img_array_gray.append(img_to_array(image))  \n",
        "    \n",
        "# for i in tqdm(sketch_file_test):\n",
        "#     image = cv2.imread(sketch_path_test + '/' + i,0)\n",
        "#     # Sobel Edge Detection\n",
        "#     #image = cv2.GaussianBlur(image, SigmaX=0, SigmaY=0)\n",
        "#     sobelxy = cv2.Sobel(src=image, ddepth=cv2.CV_64F, dx=1, dy=1, ksize=5) # Sobel Edge \n",
        "#     sketch_array_gray.append(img_to_array(image))"
      ]
    },
    {
      "cell_type": "code",
      "execution_count": null,
      "metadata": {
        "id": "LNgsuJEarnmk"
      },
      "outputs": [],
      "source": [
        "# Sobel Edge Detection\n",
        "sobelxy = cv2.Sobel(src=img_array_gray[0], ddepth=cv2.CV_64F, dx=1, dy=1, ksize=5) # Sobel Edge "
      ]
    },
    {
      "cell_type": "code",
      "execution_count": null,
      "metadata": {
        "id": "OKag8TwOsN2V",
        "colab": {
          "base_uri": "https://localhost:8080/",
          "height": 562
        },
        "outputId": "a9fc5e87-82b3-40eb-c1dc-312c8c15692f"
      },
      "outputs": [
        {
          "output_type": "error",
          "ename": "TypeError",
          "evalue": "ignored",
          "traceback": [
            "\u001b[0;31m---------------------------------------------------------------------------\u001b[0m",
            "\u001b[0;31mTypeError\u001b[0m                                 Traceback (most recent call last)",
            "\u001b[0;32m<ipython-input-202-78e9105c6f26>\u001b[0m in \u001b[0;36m<module>\u001b[0;34m()\u001b[0m\n\u001b[0;32m----> 1\u001b[0;31m \u001b[0mplt\u001b[0m\u001b[0;34m.\u001b[0m\u001b[0mimshow\u001b[0m\u001b[0;34m(\u001b[0m\u001b[0mimg_array_gray\u001b[0m\u001b[0;34m[\u001b[0m\u001b[0;36m0\u001b[0m\u001b[0;34m]\u001b[0m\u001b[0;34m)\u001b[0m\u001b[0;34m\u001b[0m\u001b[0;34m\u001b[0m\u001b[0m\n\u001b[0m",
            "\u001b[0;32m/usr/local/lib/python3.7/dist-packages/matplotlib/pyplot.py\u001b[0m in \u001b[0;36mimshow\u001b[0;34m(X, cmap, norm, aspect, interpolation, alpha, vmin, vmax, origin, extent, shape, filternorm, filterrad, imlim, resample, url, data, **kwargs)\u001b[0m\n\u001b[1;32m   2649\u001b[0m         \u001b[0mfilternorm\u001b[0m\u001b[0;34m=\u001b[0m\u001b[0mfilternorm\u001b[0m\u001b[0;34m,\u001b[0m \u001b[0mfilterrad\u001b[0m\u001b[0;34m=\u001b[0m\u001b[0mfilterrad\u001b[0m\u001b[0;34m,\u001b[0m \u001b[0mimlim\u001b[0m\u001b[0;34m=\u001b[0m\u001b[0mimlim\u001b[0m\u001b[0;34m,\u001b[0m\u001b[0;34m\u001b[0m\u001b[0;34m\u001b[0m\u001b[0m\n\u001b[1;32m   2650\u001b[0m         resample=resample, url=url, **({\"data\": data} if data is not\n\u001b[0;32m-> 2651\u001b[0;31m         None else {}), **kwargs)\n\u001b[0m\u001b[1;32m   2652\u001b[0m     \u001b[0msci\u001b[0m\u001b[0;34m(\u001b[0m\u001b[0m__ret\u001b[0m\u001b[0;34m)\u001b[0m\u001b[0;34m\u001b[0m\u001b[0;34m\u001b[0m\u001b[0m\n\u001b[1;32m   2653\u001b[0m     \u001b[0;32mreturn\u001b[0m \u001b[0m__ret\u001b[0m\u001b[0;34m\u001b[0m\u001b[0;34m\u001b[0m\u001b[0m\n",
            "\u001b[0;32m/usr/local/lib/python3.7/dist-packages/matplotlib/__init__.py\u001b[0m in \u001b[0;36minner\u001b[0;34m(ax, data, *args, **kwargs)\u001b[0m\n\u001b[1;32m   1563\u001b[0m     \u001b[0;32mdef\u001b[0m \u001b[0minner\u001b[0m\u001b[0;34m(\u001b[0m\u001b[0max\u001b[0m\u001b[0;34m,\u001b[0m \u001b[0;34m*\u001b[0m\u001b[0margs\u001b[0m\u001b[0;34m,\u001b[0m \u001b[0mdata\u001b[0m\u001b[0;34m=\u001b[0m\u001b[0;32mNone\u001b[0m\u001b[0;34m,\u001b[0m \u001b[0;34m**\u001b[0m\u001b[0mkwargs\u001b[0m\u001b[0;34m)\u001b[0m\u001b[0;34m:\u001b[0m\u001b[0;34m\u001b[0m\u001b[0;34m\u001b[0m\u001b[0m\n\u001b[1;32m   1564\u001b[0m         \u001b[0;32mif\u001b[0m \u001b[0mdata\u001b[0m \u001b[0;32mis\u001b[0m \u001b[0;32mNone\u001b[0m\u001b[0;34m:\u001b[0m\u001b[0;34m\u001b[0m\u001b[0;34m\u001b[0m\u001b[0m\n\u001b[0;32m-> 1565\u001b[0;31m             \u001b[0;32mreturn\u001b[0m \u001b[0mfunc\u001b[0m\u001b[0;34m(\u001b[0m\u001b[0max\u001b[0m\u001b[0;34m,\u001b[0m \u001b[0;34m*\u001b[0m\u001b[0mmap\u001b[0m\u001b[0;34m(\u001b[0m\u001b[0msanitize_sequence\u001b[0m\u001b[0;34m,\u001b[0m \u001b[0margs\u001b[0m\u001b[0;34m)\u001b[0m\u001b[0;34m,\u001b[0m \u001b[0;34m**\u001b[0m\u001b[0mkwargs\u001b[0m\u001b[0;34m)\u001b[0m\u001b[0;34m\u001b[0m\u001b[0;34m\u001b[0m\u001b[0m\n\u001b[0m\u001b[1;32m   1566\u001b[0m \u001b[0;34m\u001b[0m\u001b[0m\n\u001b[1;32m   1567\u001b[0m         \u001b[0mbound\u001b[0m \u001b[0;34m=\u001b[0m \u001b[0mnew_sig\u001b[0m\u001b[0;34m.\u001b[0m\u001b[0mbind\u001b[0m\u001b[0;34m(\u001b[0m\u001b[0max\u001b[0m\u001b[0;34m,\u001b[0m \u001b[0;34m*\u001b[0m\u001b[0margs\u001b[0m\u001b[0;34m,\u001b[0m \u001b[0;34m**\u001b[0m\u001b[0mkwargs\u001b[0m\u001b[0;34m)\u001b[0m\u001b[0;34m\u001b[0m\u001b[0;34m\u001b[0m\u001b[0m\n",
            "\u001b[0;32m/usr/local/lib/python3.7/dist-packages/matplotlib/cbook/deprecation.py\u001b[0m in \u001b[0;36mwrapper\u001b[0;34m(*args, **kwargs)\u001b[0m\n\u001b[1;32m    356\u001b[0m                 \u001b[0;34mf\"%(removal)s.  If any parameter follows {name!r}, they \"\u001b[0m\u001b[0;34m\u001b[0m\u001b[0;34m\u001b[0m\u001b[0m\n\u001b[1;32m    357\u001b[0m                 f\"should be pass as keyword, not positionally.\")\n\u001b[0;32m--> 358\u001b[0;31m         \u001b[0;32mreturn\u001b[0m \u001b[0mfunc\u001b[0m\u001b[0;34m(\u001b[0m\u001b[0;34m*\u001b[0m\u001b[0margs\u001b[0m\u001b[0;34m,\u001b[0m \u001b[0;34m**\u001b[0m\u001b[0mkwargs\u001b[0m\u001b[0;34m)\u001b[0m\u001b[0;34m\u001b[0m\u001b[0;34m\u001b[0m\u001b[0m\n\u001b[0m\u001b[1;32m    359\u001b[0m \u001b[0;34m\u001b[0m\u001b[0m\n\u001b[1;32m    360\u001b[0m     \u001b[0;32mreturn\u001b[0m \u001b[0mwrapper\u001b[0m\u001b[0;34m\u001b[0m\u001b[0;34m\u001b[0m\u001b[0m\n",
            "\u001b[0;32m/usr/local/lib/python3.7/dist-packages/matplotlib/cbook/deprecation.py\u001b[0m in \u001b[0;36mwrapper\u001b[0;34m(*args, **kwargs)\u001b[0m\n\u001b[1;32m    356\u001b[0m                 \u001b[0;34mf\"%(removal)s.  If any parameter follows {name!r}, they \"\u001b[0m\u001b[0;34m\u001b[0m\u001b[0;34m\u001b[0m\u001b[0m\n\u001b[1;32m    357\u001b[0m                 f\"should be pass as keyword, not positionally.\")\n\u001b[0;32m--> 358\u001b[0;31m         \u001b[0;32mreturn\u001b[0m \u001b[0mfunc\u001b[0m\u001b[0;34m(\u001b[0m\u001b[0;34m*\u001b[0m\u001b[0margs\u001b[0m\u001b[0;34m,\u001b[0m \u001b[0;34m**\u001b[0m\u001b[0mkwargs\u001b[0m\u001b[0;34m)\u001b[0m\u001b[0;34m\u001b[0m\u001b[0;34m\u001b[0m\u001b[0m\n\u001b[0m\u001b[1;32m    359\u001b[0m \u001b[0;34m\u001b[0m\u001b[0m\n\u001b[1;32m    360\u001b[0m     \u001b[0;32mreturn\u001b[0m \u001b[0mwrapper\u001b[0m\u001b[0;34m\u001b[0m\u001b[0;34m\u001b[0m\u001b[0m\n",
            "\u001b[0;32m/usr/local/lib/python3.7/dist-packages/matplotlib/axes/_axes.py\u001b[0m in \u001b[0;36mimshow\u001b[0;34m(self, X, cmap, norm, aspect, interpolation, alpha, vmin, vmax, origin, extent, shape, filternorm, filterrad, imlim, resample, url, **kwargs)\u001b[0m\n\u001b[1;32m   5624\u001b[0m                               resample=resample, **kwargs)\n\u001b[1;32m   5625\u001b[0m \u001b[0;34m\u001b[0m\u001b[0m\n\u001b[0;32m-> 5626\u001b[0;31m         \u001b[0mim\u001b[0m\u001b[0;34m.\u001b[0m\u001b[0mset_data\u001b[0m\u001b[0;34m(\u001b[0m\u001b[0mX\u001b[0m\u001b[0;34m)\u001b[0m\u001b[0;34m\u001b[0m\u001b[0;34m\u001b[0m\u001b[0m\n\u001b[0m\u001b[1;32m   5627\u001b[0m         \u001b[0mim\u001b[0m\u001b[0;34m.\u001b[0m\u001b[0mset_alpha\u001b[0m\u001b[0;34m(\u001b[0m\u001b[0malpha\u001b[0m\u001b[0;34m)\u001b[0m\u001b[0;34m\u001b[0m\u001b[0;34m\u001b[0m\u001b[0m\n\u001b[1;32m   5628\u001b[0m         \u001b[0;32mif\u001b[0m \u001b[0mim\u001b[0m\u001b[0;34m.\u001b[0m\u001b[0mget_clip_path\u001b[0m\u001b[0;34m(\u001b[0m\u001b[0;34m)\u001b[0m \u001b[0;32mis\u001b[0m \u001b[0;32mNone\u001b[0m\u001b[0;34m:\u001b[0m\u001b[0;34m\u001b[0m\u001b[0;34m\u001b[0m\u001b[0m\n",
            "\u001b[0;32m/usr/local/lib/python3.7/dist-packages/matplotlib/image.py\u001b[0m in \u001b[0;36mset_data\u001b[0;34m(self, A)\u001b[0m\n\u001b[1;32m    697\u001b[0m                 or self._A.ndim == 3 and self._A.shape[-1] in [3, 4]):\n\u001b[1;32m    698\u001b[0m             raise TypeError(\"Invalid shape {} for image data\"\n\u001b[0;32m--> 699\u001b[0;31m                             .format(self._A.shape))\n\u001b[0m\u001b[1;32m    700\u001b[0m \u001b[0;34m\u001b[0m\u001b[0m\n\u001b[1;32m    701\u001b[0m         \u001b[0;32mif\u001b[0m \u001b[0mself\u001b[0m\u001b[0;34m.\u001b[0m\u001b[0m_A\u001b[0m\u001b[0;34m.\u001b[0m\u001b[0mndim\u001b[0m \u001b[0;34m==\u001b[0m \u001b[0;36m3\u001b[0m\u001b[0;34m:\u001b[0m\u001b[0;34m\u001b[0m\u001b[0;34m\u001b[0m\u001b[0m\n",
            "\u001b[0;31mTypeError\u001b[0m: Invalid shape (250, 200, 1) for image data"
          ]
        },
        {
          "output_type": "display_data",
          "data": {
            "image/png": "[encoded data removed]",
            "text/plain": [
              "<Figure size 432x288 with 1 Axes>"
            ]
          },
          "metadata": {
            "needs_background": "light"
          }
        }
      ],
      "source": [
        "plt.imshow(img_array_gray[0])"
      ]
    },
    {
      "cell_type": "code",
      "execution_count": null,
      "metadata": {
        "id": "uRDr-JaJsX6j"
      },
      "outputs": [],
      "source": [
        "#Train the Denoise encoder to improve the sketches / make it less blurry"
      ]
    },
    {
      "cell_type": "code",
      "execution_count": null,
      "metadata": {
        "id": "WiYUHEh7se8a"
      },
      "outputs": [],
      "source": [
        "#Test it on the test data "
      ]
    },
    {
      "cell_type": "code",
      "execution_count": null,
      "metadata": {
        "id": "0AVCie-gx5gH"
      },
      "outputs": [],
      "source": [
        ""
      ]
    },
    {
      "cell_type": "markdown",
      "metadata": {
        "id": "vfQcKimSGA9y"
      },
      "source": [
        "## Segnet"
      ]
    },
    {
      "cell_type": "code",
      "execution_count": null,
      "metadata": {
        "id": "9LYe6fGmGEZy"
      },
      "outputs": [],
      "source": [
        "## Model\n",
        "# Here I have defined two blocks of networks. Encoder network takes 256 by 256 image and downsample it to 16 by 16 latent vector\n",
        "# by passing our image via series of Convolution and Maxpooling layer. This downsampled 16 by 16 latent vector is upsampled by passing \n",
        "# through series of Convolution and UpSampling layer. The final decoder output is same as our encoder input. This upsamples output of decoder\n",
        "# is compared with our sketches and reconstruction loss is calculated. This loss is minimized by updating weight and bias of network through\n",
        "# backpropagation.\n",
        "\n",
        "def segnet_ae_model_build():\n",
        "  x = Conv2D(filters = 16, kernel_size = (3,3), activation = 'relu', padding = 'same')(encoder_input)\n",
        "  x = MaxPool2D(pool_size = (2,2))(x)\n",
        "\n",
        "  x = Conv2D(filters = 32,kernel_size = (3,3),strides = (2,2), activation = 'relu', padding = 'valid')(x)\n",
        "  x = Conv2D(filters = 64, kernel_size = (3,3), strides = (2,2), activation = 'relu', padding = 'same')(x)\n",
        "  x = MaxPool2D(pool_size = (2,2))(x)\n",
        "\n",
        "  x = Conv2D(filters = 128, kernel_size = (3,3), activation = 'relu', padding = 'same')(x)\n",
        "  x = Conv2D(filters = 256 , kernel_size = (3,3), activation = 'relu', padding = 'same')(x) \n",
        "  encoder_output = Conv2D(filters = 512 , kernel_size = (3,3), activation = 'relu', padding = 'same')(x) \n",
        "  \n",
        "  encoder = tf.keras.Model(encoder_input, encoder_output)\n",
        "\n",
        "  decoder_input = Conv2D(filters = 512 ,kernel_size = (3,3), activation = 'relu', padding = 'same')(encoder_output)\n",
        "  x = UpSampling2D(size = (2,2))(decoder_input)\n",
        "  x = Conv2D(filters = 256, kernel_size = (3,3), activation = 'relu', padding = 'same')(x)\n",
        "  x = Conv2D(filters = 128, kernel_size = (3,3), activation = 'relu', padding = 'same')(x)\n",
        "  x = UpSampling2D(size = (2,2) )(x)\n",
        "\n",
        "  x = Conv2D(filters = 64, kernel_size = (3,3), activation = 'relu', padding = 'same')(x)\n",
        "  x = UpSampling2D(size = (2,2) )(x)\n",
        "  x = Conv2D(filters = 32 , kernel_size = (3,3), activation = 'relu', padding = 'same')(x)\n",
        "  x = UpSampling2D(size = (2,2) )(x)\n",
        "\n",
        "  x = Conv2D(filters = 16  , kernel_size = (3,3), activation = 'relu', padding = 'same')(x)\n",
        "  conv_decoder_output = Conv2D(filters = 3, kernel_size = (3,3), activation = 'relu', padding = 'same')(x)\n",
        "\n",
        "  return Model(encoder_input, conv_decoder_output, name=\"Convolutional AE Model\")\n",
        "\n"
      ]
    },
    {
      "cell_type": "markdown",
      "source": [
        "# Similarity measures"
      ],
      "metadata": {
        "id": "ck78tRpbO-8e"
      }
    },
    {
      "cell_type": "code",
      "source": [
        "tf.image.ssim_multiscale(\n",
        "    img1, img2, max_val, power_factors=_MSSSIM_WEIGHTS, filter_size=11,\n",
        "    filter_sigma=1.5, k1=0.01, k2=0.03\n",
        ")\n",
        "\n",
        "#This function assumes that img1 and img2 are image batches, i.e. the last three dimensions are [height, width, channels]."
      ],
      "metadata": {
        "id": "ZO35I4ZrO-Y5"
      },
      "execution_count": null,
      "outputs": []
    },
    {
      "cell_type": "code",
      "source": [
        ""
      ],
      "metadata": {
        "id": "0y-9AT_ez4Vw"
      },
      "execution_count": null,
      "outputs": []
    }
  ],
  "metadata": {
    "accelerator": "GPU",
    "colab": {
      "collapsed_sections": [
        "YDc4BxSnQVZW",
        "vfQcKimSGA9y"
      ],
      "name": "autoencoderscoursework.ipynb",
      "provenance": [],
      "toc_visible": true
    },
    "interpreter": {
      "hash": "30455c8b45af30d46bbf11fa9cc6d183511bd04bbf6aafaa289b15185471ca25"
    },
    "kernelspec": {
      "display_name": "Python 3.8.8 ('base')",
      "language": "python",
      "name": "python3"
    },
    "language_info": {
      "codemirror_mode": {
        "name": "ipython",
        "version": 3
      },
      "file_extension": ".py",
      "mimetype": "text/x-python",
      "name": "python",
      "nbconvert_exporter": "python",
      "pygments_lexer": "ipython3",
      "version": "3.8.8"
    }
  },
  "nbformat": 4,
  "nbformat_minor": 0
}